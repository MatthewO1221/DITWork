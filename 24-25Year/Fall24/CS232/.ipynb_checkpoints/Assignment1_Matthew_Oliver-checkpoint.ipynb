{
 "cells": [
  {
   "cell_type": "raw",
   "metadata": {},
   "source": [
    "Assignment#1 Scoring:\n",
    "    - Each Exercise 10 points\n",
    "    _________________________\n",
    "    Total:          20 points"
   ]
  },
  {
   "cell_type": "markdown",
   "metadata": {},
   "source": [
    "#### Exercise 1.1:\n",
    "Write code to assign to variables and use the variables when printing:\n",
    "- assign 5 to x variable\n",
    "- assign 2 to y variable\n",
    "- print the product of the variables in this form: \"The result of 2 x 5 is 10!\"\n",
    "    - use variables when printing\n",
    "    - match the exact text to print (no space before \"!\")\n",
    "- assign \"apples\" to variable s\n",
    "- print \"5 apples + 2 apples = 7 apples\" (use variables)\n",
    "    - match the exact text to print"
   ]
  },
  {
   "cell_type": "code",
   "execution_count": null,
   "metadata": {},
   "outputs": [],
   "source": [
    "# Exercise 1.1 code:\n",
    "\n"
   ]
  },
  {
   "cell_type": "markdown",
   "metadata": {},
   "source": [
    "#### Exercise 1.2:\n",
    "Write code (different than the ones in the class notebooks) and <u>intentionally</u> generate errors to receive:\n",
    "- TypeError\n",
    "- SyntaxError\n",
    "- NameError\n",
    "- ZeroDivisionError"
   ]
  },
  {
   "cell_type": "code",
   "execution_count": null,
   "metadata": {},
   "outputs": [],
   "source": [
    "# Exercise 1.2 code - TypeError:\n",
    "\n"
   ]
  },
  {
   "cell_type": "code",
   "execution_count": null,
   "metadata": {},
   "outputs": [],
   "source": [
    "# Exercise 1.2 code - SyntaxError:\n",
    "\n"
   ]
  },
  {
   "cell_type": "code",
   "execution_count": null,
   "metadata": {},
   "outputs": [],
   "source": [
    "# Exercise 1.2 code - NameError:\n",
    "\n"
   ]
  },
  {
   "cell_type": "code",
   "execution_count": null,
   "metadata": {},
   "outputs": [],
   "source": [
    "# Exercise 1.2 code - ZeroDivision:\n",
    "\n"
   ]
  }
 ],
 "metadata": {
  "kernelspec": {
   "display_name": "Python 3 (ipykernel)",
   "language": "python",
   "name": "python3"
  },
  "language_info": {
   "codemirror_mode": {
    "name": "ipython",
    "version": 3
   },
   "file_extension": ".py",
   "mimetype": "text/x-python",
   "name": "python",
   "nbconvert_exporter": "python",
   "pygments_lexer": "ipython3",
   "version": "3.8.16"
  }
 },
 "nbformat": 4,
 "nbformat_minor": 2
}
