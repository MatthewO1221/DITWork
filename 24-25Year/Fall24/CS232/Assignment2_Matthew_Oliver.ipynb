{
 "cells": [
  {
   "cell_type": "markdown",
   "metadata": {},
   "source": [
    "## Assignment#2"
   ]
  },
  {
   "cell_type": "raw",
   "metadata": {},
   "source": [
    "Scoring:\n",
    "    - Each Excercise:  10 points\n",
    "    ____________________________\n",
    "    Total:             40 points"
   ]
  },
  {
   "cell_type": "markdown",
   "metadata": {},
   "source": [
    "#### Exercise 2.0:\n",
    "Create a function:\n",
    "- takes two numbers (x and y) as arguments\n",
    "- prints x - y\n",
    "\n",
    "For example passing 3 and 5 will display:\n",
    "-2"
   ]
  },
  {
   "cell_type": "code",
   "execution_count": 22,
   "metadata": {},
   "outputs": [
    {
     "name": "stdout",
     "output_type": "stream",
     "text": [
      "-2\n"
     ]
    }
   ],
   "source": [
    "import random\n",
    "\n",
    "# Exercise 2.0 code:\n",
    "\n",
    "x = 3\n",
    "y = 5\n",
    "\n",
    "Subtract(x,y)\n",
    "\n",
    "def Subtract(x, y):\n",
    "    print(x-y)"
   ]
  },
  {
   "cell_type": "markdown",
   "metadata": {},
   "source": [
    "#### Exercise 2.1:\n",
    "Create a function:\n",
    "- takes three positive numbers (x2, x1 and c) as arguments\n",
    "- print a quadratic expression using the arguments as coefficients\n",
    "\n",
    "For example 3, 4 and 2:\n",
    "- 3x^2 + 4x + 2"
   ]
  },
  {
   "cell_type": "code",
   "execution_count": 16,
   "metadata": {},
   "outputs": [
    {
     "name": "stdout",
     "output_type": "stream",
     "text": [
      "3x^2 + 4x + 2\n"
     ]
    }
   ],
   "source": [
    "# Exercise 2.1 code:\n",
    "\n",
    "x2 = 3\n",
    "x1 = 4\n",
    "c = 2\n",
    "\n",
    "def Quadratic(x2, x1, c):\n",
    "    print(str(x2) + 'x^2 + ' + str(x1) + 'x + ' + str(c))\n",
    "\n",
    "\n",
    "Quadratic(x2,x1,c)\n",
    "\n",
    "\n"
   ]
  },
  {
   "cell_type": "markdown",
   "metadata": {},
   "source": [
    "#### Excercise 3.2:\n",
    "- Assign a positive whole number to x between 1 and 9999\n",
    "- **Use nested conditions** and print a statement in one line\n",
    "    - stating how many digits the number x has\n",
    "    - stating whether the number x is even or odd\n",
    "- Example: \"200 is a 3 digit even number\""
   ]
  },
  {
   "cell_type": "code",
   "execution_count": 35,
   "metadata": {},
   "outputs": [
    {
     "name": "stdout",
     "output_type": "stream",
     "text": [
      "6067 is a 4 digit odd number\n"
     ]
    }
   ],
   "source": [
    "# Excercise 3.2 code:\n",
    "\n",
    "#I could do this code so much better but I am choosing to use tons of nested ifs in the spirit of the assignment\n",
    "\n",
    "x = random.randint(1,9999)\n",
    "    \n",
    "\n",
    "if x % 2 == 0:\n",
    "    if len(str(x)) == 1:\n",
    "        print(str(x) + ' is a 1 digit even number')\n",
    "    elif len(str(x)) == 2:\n",
    "        print(str(x) + ' is a 2 digit even number')\n",
    "    elif len(str(x)) == 3:\n",
    "        print(str(x) + ' is a 3 digit even number')\n",
    "    elif len(str(x)) == 4:\n",
    "        print(str(x) + ' is a 4 digit even number')\n",
    "else:\n",
    "    if len(str(x)) == 1:\n",
    "        print(str(x) + ' is a 1 digit odd number')\n",
    "    elif len(str(x)) == 2:\n",
    "        print(str(x) + ' is a 2 digit odd number')\n",
    "    elif len(str(x)) == 3:\n",
    "        print(str(x) + ' is a 3 digit odd number')\n",
    "    elif len(str(x)) == 4:\n",
    "        print(str(x) + ' is a 4 digit odd number')\n",
    "    "
   ]
  },
  {
   "cell_type": "markdown",
   "metadata": {},
   "source": [
    "#### Excercise 4.1:\n",
    "Use loops to print below:"
   ]
  },
  {
   "cell_type": "raw",
   "metadata": {},
   "source": [
    "0 0 0 0 0 0 0 0 0 0 \n",
    "1 1 1 1 1 1 1 1 1 \n",
    "2 2 2 2 2 2 2 2 \n",
    "3 3 3 3 3 3 3 \n",
    "4 4 4 4 4 4 \n",
    "5 5 5 5 5 \n",
    "6 6 6 6 \n",
    "7 7 7 \n",
    "8 8 \n",
    "9 "
   ]
  },
  {
   "cell_type": "code",
   "execution_count": 47,
   "metadata": {},
   "outputs": [
    {
     "name": "stdout",
     "output_type": "stream",
     "text": [
      "0 0 0 0 0 0 0 0 0 0 \n",
      "1 1 1 1 1 1 1 1 1 \n",
      "2 2 2 2 2 2 2 2 \n",
      "3 3 3 3 3 3 3 \n",
      "4 4 4 4 4 4 \n",
      "5 5 5 5 5 \n",
      "6 6 6 6 \n",
      "7 7 7 \n",
      "8 8 \n",
      "9 \n"
     ]
    }
   ],
   "source": [
    "# Excercise 4.1 code:\n",
    "\n",
    "y = 10\n",
    "\n",
    "for i in range(10):\n",
    "    while y > i:\n",
    "        print(i, end = ' ')\n",
    "        y = y - 1\n",
    "\n",
    "    print('')\n",
    "    y = 10\n"
   ]
  },
  {
   "cell_type": "code",
   "execution_count": null,
   "metadata": {},
   "outputs": [],
   "source": []
  }
 ],
 "metadata": {
  "kernelspec": {
   "display_name": "Python 3 (ipykernel)",
   "language": "python",
   "name": "python3"
  },
  "language_info": {
   "codemirror_mode": {
    "name": "ipython",
    "version": 3
   },
   "file_extension": ".py",
   "mimetype": "text/x-python",
   "name": "python",
   "nbconvert_exporter": "python",
   "pygments_lexer": "ipython3",
   "version": "3.12.4"
  }
 },
 "nbformat": 4,
 "nbformat_minor": 4
}
