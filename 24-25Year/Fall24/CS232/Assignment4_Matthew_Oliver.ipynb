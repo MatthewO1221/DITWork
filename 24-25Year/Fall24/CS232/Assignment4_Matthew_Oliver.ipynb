{
 "cells": [
  {
   "cell_type": "markdown",
   "metadata": {},
   "source": [
    "***Import Libraries***"
   ]
  },
  {
   "cell_type": "code",
   "execution_count": 2,
   "metadata": {},
   "outputs": [],
   "source": [
    "import pandas as pd\n",
    "import numpy as np\n",
    "\n",
    "from matplotlib import pyplot as plt\n",
    "\n",
    "%matplotlib inline"
   ]
  },
  {
   "cell_type": "markdown",
   "metadata": {},
   "source": [
    "***Load in Pokemon CSV File***"
   ]
  },
  {
   "cell_type": "code",
   "execution_count": 4,
   "metadata": {},
   "outputs": [
    {
     "data": {
      "text/plain": [
       "Index(['Pokedex Number', 'Pokemon Name', 'Classification', 'Legendary Type',\n",
       "       'Height', 'Weight', 'Primary Type', 'Secondary Type', 'Primary Ability',\n",
       "       'Primary Ability Description', 'Secondary Ability',\n",
       "       'Secondary Ability Description', 'Hidden Ability',\n",
       "       'Hidden Ability Description', 'Male Ratio', 'Female Ratio',\n",
       "       'Games of Origin', 'Health EV', 'Attack EV', 'Defense EV',\n",
       "       'Special Attack EV', 'Special Defense EV', 'Speed EV', 'Catch Rate',\n",
       "       'Experience Growth Name', 'Experience Growth Total', 'Experience Yield',\n",
       "       'Base Happiness', 'Health Base Stat', 'Attack Base Stat',\n",
       "       'Defense Base Stat', 'Special Attack Base Stat',\n",
       "       'Special Defense Base Stat', 'Speed Base Stat', 'Primary Egg Group',\n",
       "       'Secondary Egg Group', 'Cycle Count', 'Pre-Evolution Pokedex Number',\n",
       "       'Evolution Method', 'Evolution Details', 'Original Pokemon',\n",
       "       'Form Name'],\n",
       "      dtype='object')"
      ]
     },
     "execution_count": 4,
     "metadata": {},
     "output_type": "execute_result"
    }
   ],
   "source": [
    "\n",
    "#Had to ask gpt for help as there was an encoding error when reading the file\n",
    "pokeFrame = pd.read_csv('pokemon.csv', encoding=\"latin1\")\n",
    "\n",
    "\n",
    "#Make sure it loaded correctly\n",
    "pokeFrame.head()\n",
    "\n",
    "pokeFrame.columns"
   ]
  },
  {
   "cell_type": "markdown",
   "metadata": {},
   "source": [
    "***Choose five features to analyze***"
   ]
  },
  {
   "cell_type": "code",
   "execution_count": 6,
   "metadata": {},
   "outputs": [
    {
     "name": "stdout",
     "output_type": "stream",
     "text": [
      "          Height      Weight  Health Base Stat  Attack Base Stat  \\\n",
      "count  927.00000  927.000000        927.000000        927.000000   \n",
      "mean     1.26246   69.078209         69.531823         80.011866   \n",
      "std      1.30101  126.450808         26.056443         32.595679   \n",
      "min      0.10000    0.100000          1.000000          5.000000   \n",
      "25%      0.60000    9.200000         50.000000         55.000000   \n",
      "50%      1.00000   29.000000         67.000000         75.000000   \n",
      "75%      1.50000   69.100000         80.000000        100.000000   \n",
      "max     14.50000  999.900000        255.000000        190.000000   \n",
      "\n",
      "       Defense Base Stat  Special Attack Base Stat  Special Defense Base Stat  \\\n",
      "count         927.000000                927.000000                 927.000000   \n",
      "mean           74.393743                 73.017260                  72.077670   \n",
      "std            31.396669                 33.068221                  27.782525   \n",
      "min             4.000000                 10.000000                  20.000000   \n",
      "25%            50.000000                 50.000000                  50.000000   \n",
      "50%            70.000000                 65.000000                  70.000000   \n",
      "75%            90.000000                 95.000000                  90.000000   \n",
      "max           230.000000                194.000000                 230.000000   \n",
      "\n",
      "       Speed Base Stat  \n",
      "count       927.000000  \n",
      "mean         68.327940  \n",
      "std          29.349468  \n",
      "min           5.000000  \n",
      "25%          45.000000  \n",
      "50%          65.000000  \n",
      "75%          90.000000  \n",
      "max         180.000000  \n",
      "<class 'pandas.core.frame.DataFrame'>\n",
      "RangeIndex: 927 entries, 0 to 926\n",
      "Data columns (total 8 columns):\n",
      " #   Column                     Non-Null Count  Dtype  \n",
      "---  ------                     --------------  -----  \n",
      " 0   Height                     927 non-null    float64\n",
      " 1   Weight                     927 non-null    float64\n",
      " 2   Health Base Stat           927 non-null    int64  \n",
      " 3   Attack Base Stat           927 non-null    int64  \n",
      " 4   Defense Base Stat          927 non-null    int64  \n",
      " 5   Special Attack Base Stat   927 non-null    int64  \n",
      " 6   Special Defense Base Stat  927 non-null    int64  \n",
      " 7   Speed Base Stat            927 non-null    int64  \n",
      "dtypes: float64(2), int64(6)\n",
      "memory usage: 58.1 KB\n",
      "None\n"
     ]
    }
   ],
   "source": [
    "\n",
    "#Chose to look at heigh and weight, as well as all base stats\n",
    "features = ['Height', 'Weight', 'Health Base Stat', 'Attack Base Stat',\n",
    "       'Defense Base Stat', 'Special Attack Base Stat',\n",
    "       'Special Defense Base Stat', 'Speed Base Stat']\n",
    "\n",
    "\n",
    "print(pokeFrame[features].describe())\n",
    "print(pokeFrame[features].info())"
   ]
  }
 ],
 "metadata": {
  "kernelspec": {
   "display_name": "base",
   "language": "python",
   "name": "python3"
  },
  "language_info": {
   "codemirror_mode": {
    "name": "ipython",
    "version": 3
   },
   "file_extension": ".py",
   "mimetype": "text/x-python",
   "name": "python",
   "nbconvert_exporter": "python",
   "pygments_lexer": "ipython3",
   "version": "3.12.4"
  }
 },
 "nbformat": 4,
 "nbformat_minor": 2
}
