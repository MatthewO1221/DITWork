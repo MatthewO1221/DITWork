{
 "cells": [
  {
   "cell_type": "markdown",
   "metadata": {},
   "source": [
    "***Import Libraries***"
   ]
  },
  {
   "cell_type": "code",
   "execution_count": 58,
   "metadata": {},
   "outputs": [],
   "source": [
    "import pandas as pd\n",
    "import numpy as np\n",
    "\n",
    "from matplotlib import pyplot as plt\n",
    "\n",
    "%matplotlib inline"
   ]
  },
  {
   "cell_type": "markdown",
   "metadata": {},
   "source": [
    "***Load in CSV Files***"
   ]
  },
  {
   "cell_type": "code",
   "execution_count": null,
   "metadata": {},
   "outputs": [
    {
     "name": "stdout",
     "output_type": "stream",
     "text": [
      "     placeID                            name\n",
      "0     134999                 Kiku Cuernavaca\n",
      "1     132825                 puesto de tacos\n",
      "2     135106      El Rinc�n de San Francisco\n",
      "3     132667  little pizza Emilio Portes Gil\n",
      "4     132613                   carnitas_mata\n",
      "..       ...                             ...\n",
      "125   132866                         Chaires\n",
      "126   135072                      Sushi Itto\n",
      "127   135109                       Paniroles\n",
      "128   135019     Restaurant Bar Coty y Pablo\n",
      "129   132877                sirloin stockade\n",
      "\n",
      "[130 rows x 2 columns]\n",
      "     placeID         cuisine\n",
      "0     135110         Spanish\n",
      "1     135109         Italian\n",
      "2     135107  Latin_American\n",
      "3     135106         Mexican\n",
      "4     135105       Fast_Food\n",
      "..       ...             ...\n",
      "911   132005         Seafood\n",
      "912   132004         Seafood\n",
      "913   132003   International\n",
      "914   132002         Seafood\n",
      "915   132001   Dutch-Belgian\n",
      "\n",
      "[916 rows x 2 columns]\n",
      "     userID  placeID  rating\n",
      "0     U1077   135085       2\n",
      "1     U1077   135038       2\n",
      "2     U1077   132825       2\n",
      "3     U1077   135060       1\n",
      "4     U1068   135104       1\n",
      "...     ...      ...     ...\n",
      "1156  U1043   132630       1\n",
      "1157  U1011   132715       1\n",
      "1158  U1068   132733       1\n",
      "1159  U1068   132594       1\n",
      "1160  U1068   132660       0\n",
      "\n",
      "[1161 rows x 3 columns]\n"
     ]
    }
   ],
   "source": [
    "restarauntDataSet = pd.read_csv('locations.csv')\n",
    "cuisinesDataSet = pd.read_csv('cuisines.csv')\n",
    "ratingsDataSet = pd.read_csv('ratings.csv')\n",
    "\n",
    "#print to make sure they loaded correctly\n",
    "print(restarauntDataSet)\n",
    "print(cuisinesDataSet)\n",
    "print(ratingsDataSet)\n",
    "\n"
   ]
  },
  {
   "cell_type": "markdown",
   "metadata": {},
   "source": [
    "Here I aggregate the ratings data set to get the average rating and vote count, then add the restaruant and cuisines"
   ]
  },
  {
   "cell_type": "code",
   "execution_count": null,
   "metadata": {},
   "outputs": [
    {
     "name": "stdout",
     "output_type": "stream",
     "text": [
      "     placeID  averageRating  voteCount                        name  \\\n",
      "0     135110            NaN        NaN                         NaN   \n",
      "1     135109            1.0        4.0                   Paniroles   \n",
      "2     135107            NaN        NaN                         NaN   \n",
      "3     135106            1.2       10.0  El Rinc�n de San Francisco   \n",
      "4     135105            NaN        NaN                         NaN   \n",
      "..       ...            ...        ...                         ...   \n",
      "911   132005            NaN        NaN                         NaN   \n",
      "912   132004            NaN        NaN                         NaN   \n",
      "913   132003            NaN        NaN                         NaN   \n",
      "914   132002            NaN        NaN                         NaN   \n",
      "915   132001            NaN        NaN                         NaN   \n",
      "\n",
      "            cuisine  \n",
      "0           Spanish  \n",
      "1           Italian  \n",
      "2    Latin_American  \n",
      "3           Mexican  \n",
      "4         Fast_Food  \n",
      "..              ...  \n",
      "911         Seafood  \n",
      "912         Seafood  \n",
      "913   International  \n",
      "914         Seafood  \n",
      "915   Dutch-Belgian  \n",
      "\n",
      "[916 rows x 5 columns]\n"
     ]
    }
   ],
   "source": [
    "#Get the ratings data\n",
    "ratingsSummaryDataSet = ratingsDataSet.groupby('placeID').agg(\n",
    "    averageRating = ('rating', 'mean'),\n",
    "    voteCount = ('rating', 'count')\n",
    ").reset_index()\n",
    "\n",
    "#Add the restaraunt names\n",
    "restarauntSummaryDataSet = ratingsSummaryDataSet.merge(restarauntDataSet, on='placeID', how='right')\n",
    "\n",
    "#Add the cuisines\n",
    "fullSummaryDataSet = restarauntSummaryDataSet.merge(cuisinesDataSet, on='placeID', how='right')\n",
    "\n",
    "#Prints a bunch of nans but works, not sure why\n",
    "print(fullSummaryDataSet)"
   ]
  },
  {
   "cell_type": "markdown",
   "metadata": {},
   "source": [
    "Here is where I filter only by restaraunts that have 10 or more votes and then sort them"
   ]
  },
  {
   "cell_type": "code",
   "execution_count": null,
   "metadata": {},
   "outputs": [
    {
     "name": "stdout",
     "output_type": "stream",
     "text": [
      "     placeID  averageRating  voteCount                                name  \\\n",
      "46    135075       1.692308       13.0                Mariscos El Pescador   \n",
      "92    135025       1.666667       15.0          El Rincon de San Francisco   \n",
      "343   132768       1.600000       10.0                  Mariscos Tia Licha   \n",
      "85    135030       1.583333       12.0            Preambulo Wifi Zone Cafe   \n",
      "84    135030       1.583333       12.0            Preambulo Wifi Zone Cafe   \n",
      "88    135028       1.533333       15.0                         La Virreina   \n",
      "355   132754       1.461538       13.0                     Cabana Huasteca   \n",
      "380   132723       1.416667       12.0                   Gordas de morales   \n",
      "264   132862       1.388889       18.0                La Posada del Virrey   \n",
      "90    135026       1.363636       11.0                          la Cantina   \n",
      "91    135026       1.363636       11.0                          la Cantina   \n",
      "44    135085       1.333333       36.0              Tortas Locas Hipocampo   \n",
      "376   132733       1.300000       10.0                       Little Cesarz   \n",
      "294   132825       1.281250       32.0                     puesto de tacos   \n",
      "65    135052       1.280000       25.0              La Cantina Restaurante   \n",
      "66    135052       1.280000       25.0              La Cantina Restaurante   \n",
      "69    135046       1.272727       11.0             Restaurante El Reyecito   \n",
      "58    135057       1.266667       15.0    El Herradero Restaurante and Bar   \n",
      "73    135042       1.250000       20.0         Restaurant Oriental Express   \n",
      "76    135039       1.250000       12.0     Restaurant de Mariscos de Picon   \n",
      "214   132921       1.235294       17.0                            crudalia   \n",
      "3     135106       1.200000       10.0          El Rinc�n de San Francisco   \n",
      "82    135032       1.178571       28.0  Cafeteria y Restaurant El Pacifico   \n",
      "81    135032       1.178571       28.0  Cafeteria y Restaurant El Pacifico   \n",
      "75    135041       1.176471       17.0                           Luna Cafe   \n",
      "74    135041       1.176471       17.0                           Luna Cafe   \n",
      "45    135079       1.176471       17.0                          Koye Sushi   \n",
      "55    135060       1.136364       22.0             Restaurante Marisco Sam   \n",
      "57    135058       1.111111       18.0                Restaurante Tiberius   \n",
      "187   132951       1.000000       10.0                                VIPS   \n",
      "61    135054       1.000000       10.0    Restaurante y Pescaderia Tampico   \n",
      "289   132834       1.000000       25.0                 Gorditas Doa Gloria   \n",
      "511   132572       1.000000       15.0                        Cafe Chaires   \n",
      "252   132872       0.916667       12.0                     Pizzeria Julios   \n",
      "270   132856       0.857143       14.0                       Unicols Pizza   \n",
      "42    135086       0.800000       10.0         Mcdonalds Parque Tangamanga   \n",
      "43    135086       0.800000       10.0         Mcdonalds Parque Tangamanga   \n",
      "53    135069       0.500000       12.0           Abondance Restaurante Bar   \n",
      "\n",
      "              cuisine  \n",
      "46            Seafood  \n",
      "92            Mexican  \n",
      "343            Family  \n",
      "85          Cafeteria  \n",
      "84   Cafe-Coffee_Shop  \n",
      "88            Mexican  \n",
      "355           Mexican  \n",
      "380           Mexican  \n",
      "264     International  \n",
      "90                Bar  \n",
      "91    Bar_Pub_Brewery  \n",
      "44          Fast_Food  \n",
      "376          Pizzeria  \n",
      "294           Mexican  \n",
      "65                Bar  \n",
      "66    Bar_Pub_Brewery  \n",
      "69          Fast_Food  \n",
      "58                Bar  \n",
      "73            Chinese  \n",
      "76            Seafood  \n",
      "214               Bar  \n",
      "3             Mexican  \n",
      "82       Contemporary  \n",
      "81          Cafeteria  \n",
      "75          Cafeteria  \n",
      "74                Bar  \n",
      "45            Chinese  \n",
      "55            Seafood  \n",
      "57           Pizzeria  \n",
      "187          American  \n",
      "61            Seafood  \n",
      "289           Mexican  \n",
      "511         Cafeteria  \n",
      "252          American  \n",
      "270           Italian  \n",
      "42            Burgers  \n",
      "43          Fast_Food  \n",
      "53                Bar  \n"
     ]
    }
   ],
   "source": [
    "#Restaraunts with at least 10 votes\n",
    "restarauntsVoteThreshold = fullSummaryDataSet[fullSummaryDataSet['voteCount'] >= 10]\n",
    "\n",
    "#Sorted\n",
    "sortedBestRestaraunts = restarauntsVoteThreshold.sort_values(by = 'averageRating', ascending=False)\n",
    "\n",
    "print(sortedBestRestaraunts)"
   ]
  },
  {
   "cell_type": "markdown",
   "metadata": {},
   "source": [
    "Now I display the ten best restaraunts"
   ]
  },
  {
   "cell_type": "code",
   "execution_count": 64,
   "metadata": {},
   "outputs": [
    {
     "name": "stdout",
     "output_type": "stream",
     "text": [
      "The ten best restaraunts\n",
      "     placeID                        name           cuisine\n",
      "46    135075        Mariscos El Pescador           Seafood\n",
      "92    135025  El Rincon de San Francisco           Mexican\n",
      "343   132768          Mariscos Tia Licha            Family\n",
      "85    135030    Preambulo Wifi Zone Cafe         Cafeteria\n",
      "84    135030    Preambulo Wifi Zone Cafe  Cafe-Coffee_Shop\n",
      "88    135028                 La Virreina           Mexican\n",
      "355   132754             Cabana Huasteca           Mexican\n",
      "380   132723           Gordas de morales           Mexican\n",
      "264   132862        La Posada del Virrey     International\n",
      "90    135026                  la Cantina               Bar\n"
     ]
    }
   ],
   "source": [
    "topTen = sortedBestRestaraunts.head(10)\n",
    "\n",
    "print(\"The ten best restaraunts\")\n",
    "print(topTen[['placeID', 'name', 'cuisine']])"
   ]
  },
  {
   "cell_type": "markdown",
   "metadata": {},
   "source": [
    "Here I get the counts of each cuisine in the top ten, then get the one with the highest count and print it. Since there isn't a tie it is not necessary to account for that"
   ]
  },
  {
   "cell_type": "code",
   "execution_count": null,
   "metadata": {},
   "outputs": [
    {
     "name": "stdout",
     "output_type": "stream",
     "text": [
      "Most popular food\n",
      "Mexican\n"
     ]
    }
   ],
   "source": [
    "#Get count of each cuisine\n",
    "foodCounts = topTen['cuisine'].value_counts()\n",
    "\n",
    "#Get food with highest count\n",
    "bestFood = foodCounts.idxmax()\n",
    "\n",
    "print(\"Most popular food\")\n",
    "print(bestFood)"
   ]
  }
 ],
 "metadata": {
  "kernelspec": {
   "display_name": "base",
   "language": "python",
   "name": "python3"
  },
  "language_info": {
   "codemirror_mode": {
    "name": "ipython",
    "version": 3
   },
   "file_extension": ".py",
   "mimetype": "text/x-python",
   "name": "python",
   "nbconvert_exporter": "python",
   "pygments_lexer": "ipython3",
   "version": "3.12.4"
  }
 },
 "nbformat": 4,
 "nbformat_minor": 2
}
