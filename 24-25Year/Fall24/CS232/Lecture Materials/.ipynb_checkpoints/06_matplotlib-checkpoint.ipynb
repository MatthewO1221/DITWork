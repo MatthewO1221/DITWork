{
 "cells": [
  {
   "cell_type": "markdown",
   "metadata": {},
   "source": [
    "Matplotlib is the brainchild of John Hunter (1968-2012), who, along with its many contributors, have put an immeasurable amount of time and effort into producing a piece of software utilized by thousands of scientists worldwide."
   ]
  },
  {
   "cell_type": "markdown",
   "metadata": {},
   "source": [
    "#### References:\n",
    "    www.python.org\n",
    "    www.numpy.org\n",
    "    www.matplotlib.org"
   ]
  },
  {
   "cell_type": "markdown",
   "metadata": {},
   "source": [
    "#### Questions/feedback: petert@digipen.edu"
   ]
  },
  {
   "cell_type": "markdown",
   "metadata": {},
   "source": [
    "# Chapter06: plotting with matplotlib\n",
    "## matplotlib\n",
    "    - Plots: lineplot, barchart, histogram, scatter plot, stack chart, pie chart\n",
    "    - Colors, Markers, Line Styles\n",
    "    - Ticks, Labels, Legends\n"
   ]
  },
  {
   "cell_type": "markdown",
   "metadata": {},
   "source": [
    "#### Import pyplot from matplotlib:\n",
    "    using 'np'  is standard by Python users\n",
    "    using 'plt' is standard by Python users\n",
    "    %matplotlib notebook is needed to keep the created plots embedded in the notebook"
   ]
  },
  {
   "cell_type": "code",
   "execution_count": null,
   "metadata": {},
   "outputs": [],
   "source": [
    "import numpy as np                      # using 'np'  is standard by Python users\n",
    "from matplotlib import pyplot as plt    # using 'plt' is standard by Python users\n",
    "#from matplotlib import colors          # experiment turning this on later\n",
    "\n",
    "%matplotlib inline"
   ]
  },
  {
   "cell_type": "markdown",
   "metadata": {},
   "source": [
    "#### A **line plot** is a type of graph that shows data as a series of data points connected by straight line segments."
   ]
  },
  {
   "cell_type": "markdown",
   "metadata": {},
   "source": [
    "#### Plot values using line plot\n",
    "    - list values on the X-axis in 'x'\n",
    "    - list values on the Y-axis for the listed 'x' values\n",
    "    - use plt.plot(x, y) to draw line plot with the values in the coordinate system \n",
    "    - use plt.show() to display the plot"
   ]
  },
  {
   "cell_type": "code",
   "execution_count": null,
   "metadata": {
    "scrolled": false
   },
   "outputs": [],
   "source": [
    "x = [1, 2, 3, 4, 5]\n",
    "y = [1, 4, 9, 16, 25]\n",
    "plt.plot(x, y)\n",
    "plt.show()"
   ]
  },
  {
   "cell_type": "markdown",
   "metadata": {},
   "source": [
    "#### Add more lines using plt.plot():"
   ]
  },
  {
   "cell_type": "code",
   "execution_count": null,
   "metadata": {},
   "outputs": [],
   "source": [
    "x = [1, 2, 3, 4, 5]\n",
    "y = [1, 4, 9, 16, 25]\n",
    "z = [1, 8, 27, 64, 125]\n",
    "v = [1, 16, 81, 256, 625]\n",
    "plt.plot(x, y)\n",
    "plt.plot(x, z)\n",
    "plt.plot(x, v)\n",
    "plt.show()"
   ]
  },
  {
   "cell_type": "markdown",
   "metadata": {},
   "source": [
    "#### Further customize the plot, add:\n",
    "    - title\n",
    "    - labels to X-axis and Y-axis\n",
    "    - legend to help differentiate between lines"
   ]
  },
  {
   "cell_type": "code",
   "execution_count": null,
   "metadata": {
    "scrolled": false
   },
   "outputs": [],
   "source": [
    "x = [1, 2, 3, 4, 5]\n",
    "y = [1, 4, 9, 16, 25]\n",
    "z = [1, 8, 27, 64, 125]\n",
    "v = [1, 16, 81, 256, 625]\n",
    "plt.plot(x, y)\n",
    "plt.plot(x, z)\n",
    "plt.plot(x, v)\n",
    "plt.title(\"test plot\")\n",
    "plt.xlabel(\"input (x)\")\n",
    "plt.ylabel(\"output (y, z and v)\")\n",
    "plt.legend([\"this is y\",\"this is z\",\"this is v\"])\n",
    "plt.show()"
   ]
  },
  {
   "cell_type": "markdown",
   "metadata": {},
   "source": [
    "#### Plot functions:\n",
    "    - Use NumPy number range to set the range on the X-axis\n",
    "    - plot y as a linear function\n",
    "    - plot z as a quadratic function"
   ]
  },
  {
   "cell_type": "code",
   "execution_count": null,
   "metadata": {},
   "outputs": [],
   "source": [
    "np.arange(20)"
   ]
  },
  {
   "cell_type": "code",
   "execution_count": null,
   "metadata": {},
   "outputs": [],
   "source": [
    "list(np.arange(20))"
   ]
  },
  {
   "cell_type": "code",
   "execution_count": null,
   "metadata": {},
   "outputs": [],
   "source": [
    "x = np.arange(20)\n",
    "y = x\n",
    "z = x ** 2\n",
    "plt.plot(x, y)\n",
    "plt.plot(x, z)\n",
    "plt.show()"
   ]
  },
  {
   "cell_type": "markdown",
   "metadata": {},
   "source": [
    "#### Customize:\n",
    "    - color the lines\n",
    "    - set line style\n",
    "    - add marker to the lines\n",
    "    - title, x and y labels, legends\n",
    "    - specify the plotting range on X-axis"
   ]
  },
  {
   "cell_type": "code",
   "execution_count": null,
   "metadata": {},
   "outputs": [],
   "source": [
    "x = np.arange(20)\n",
    "y = x\n",
    "z = x ** 2\n",
    "plt.plot(x, y, 'go')\n",
    "plt.plot(x, z, color='red', linestyle='dashed', marker='*')\n",
    "plt.title(\"demo plot\")\n",
    "plt.xlabel(\"input x\")\n",
    "plt.ylabel(\"output x and x^2\")\n",
    "plt.legend([\"x\",\"x^2\"])\n",
    "#plt.xlim(5,15)\n",
    "plt.show()"
   ]
  },
  {
   "cell_type": "markdown",
   "metadata": {},
   "source": [
    "Example to get detailed help on a method:"
   ]
  },
  {
   "cell_type": "code",
   "execution_count": null,
   "metadata": {},
   "outputs": [],
   "source": [
    "plt.plot?"
   ]
  },
  {
   "cell_type": "markdown",
   "metadata": {},
   "source": [
    "Plot the same using np.linspace() instead of np.arange() and with double marker frequency: "
   ]
  },
  {
   "cell_type": "code",
   "execution_count": null,
   "metadata": {
    "scrolled": true
   },
   "outputs": [],
   "source": [
    "np.linspace(0,20,400)"
   ]
  },
  {
   "cell_type": "code",
   "execution_count": null,
   "metadata": {},
   "outputs": [],
   "source": [
    "x = np.linspace(0,20,40)\n",
    "y = x\n",
    "z = x ** 2\n",
    "plt.plot(x, y)\n",
    "plt.plot(x, z, color='g', linestyle='dashed', marker='o')\n",
    "plt.title(\"demo plot\")\n",
    "plt.xlabel(\"input x\")\n",
    "plt.ylabel(\"output x and x^2\")\n",
    "plt.legend([\"x\",\"$x^{2}$\"])\n",
    "#plt.xlim(5,15)\n",
    "plt.show()"
   ]
  },
  {
   "cell_type": "markdown",
   "metadata": {},
   "source": [
    "#### Example using builtin trigonometric functions:"
   ]
  },
  {
   "cell_type": "code",
   "execution_count": null,
   "metadata": {
    "scrolled": false
   },
   "outputs": [],
   "source": [
    "#x = np.arange(-2 * np.pi, 2 * np.pi, 0.1)\n",
    "x = np.linspace(-2 * np.pi, 2 * np.pi, 100)\n",
    "y = np.sin(x)\n",
    "z = np.cos(x)\n",
    "plt.plot(x, y, label = 'sin(x)')\n",
    "plt.plot(x, z, label = 'cos(x)')\n",
    "plt.xlabel('x')\n",
    "plt.ylabel('sin(x) and cos(x)')\n",
    "plt.title('sine and cosine in+/-2pi')\n",
    "plt.grid()\n",
    "plt.legend()\n",
    "#plt.legend(['sin(x)', 'cos(x)'])\n",
    "plt.show()"
   ]
  },
  {
   "cell_type": "markdown",
   "metadata": {},
   "source": [
    "Add \n",
    "- figure and subplots \n",
    "- grid\n",
    "- origin axis (x, y)\n",
    "- more"
   ]
  },
  {
   "cell_type": "code",
   "execution_count": null,
   "metadata": {},
   "outputs": [],
   "source": [
    "plt.subplots?"
   ]
  },
  {
   "cell_type": "code",
   "execution_count": null,
   "metadata": {},
   "outputs": [],
   "source": [
    "x = np.arange(-2 * np.pi, 2 * np.pi, 0.1)\n",
    "y = np.sin(x)\n",
    "z = np.cos(x)\n",
    "\n",
    "fig, ax = plt.subplots(nrows=1, ncols=2, figsize=(7.5,1.5))\n",
    "ax[0].grid(True, which='both')\n",
    "ax[0].axhline(y=0, color='k')\n",
    "ax[0].axvline(x=0, color='k')\n",
    "ax[1].grid(True, which='both')\n",
    "ax[1].axhline(y=0, color='k')\n",
    "ax[1].axvline(x=0, color='k')\n",
    "\n",
    "ax[0].plot(x, y, label = 'sin(x)', color=\"red\")\n",
    "ax[1].plot(x, z, label = 'cos(x)', color=\"green\")\n",
    "\n",
    "ax[0].set_title('sin(x)', color=\"red\")\n",
    "ax[1].set_title('cos(x)', color=\"green\")\n",
    "\n",
    "ax[0].set_xlabel('x')\n",
    "ax[1].set_xlabel('x')\n",
    "\n",
    "ax[1].set_ylabel('sin(x) and cos(x)')\n",
    "\n",
    "ax[0].legend()\n",
    "ax[1].legend()\n",
    "\n",
    "plt.show()"
   ]
  },
  {
   "cell_type": "code",
   "execution_count": null,
   "metadata": {},
   "outputs": [],
   "source": [
    "x = np.arange(-2 * np.pi, 2 * np.pi, 0.1)\n",
    "y = np.sin(x)\n",
    "z = np.cos(x)\n",
    "\n",
    "fig, ax = plt.subplots(nrows=2,ncols=2, figsize=(12.5,6))\n",
    "\n",
    "ax[0,0].plot(x, y, label = 'sin(x)', color=\"red\")\n",
    "ax[0,1].plot(x, z, label = 'cos(x)', color=\"green\")\n",
    "ax[1,0].plot(x, y + z, label = 'sin(x) + cos(x)', color=\"pink\")\n",
    "ax[1,1].plot(x, z - y, label = 'cos(x) - sin(x)', color=\"purple\")\n",
    "\n",
    "ax[0,1].axhline(y=0, color='k')\n",
    "ax[0,1].axvline(x=0, color='k')\n",
    "ax[1,1].grid(True, which='both')\n",
    "ax[1,1].axhline(y=0, color='k')\n",
    "ax[1,1].axvline(x=0, color='k')\n",
    "ax[0,0].legend()\n",
    "ax[0,1].legend()\n",
    "ax[1,0].legend()\n",
    "ax[1,1].legend()\n",
    "\n",
    "plt.show()"
   ]
  },
  {
   "cell_type": "markdown",
   "metadata": {},
   "source": [
    "### Other Data Visualization Charts"
   ]
  },
  {
   "cell_type": "markdown",
   "metadata": {},
   "source": [
    "#### A bar plot is a type of graph that represents categorical data with rectangular bars.\n",
    "The height (or length) of each bar is proportional to the value it represents.\n",
    "\n",
    "#### Example for bar chart:"
   ]
  },
  {
   "cell_type": "code",
   "execution_count": null,
   "metadata": {},
   "outputs": [],
   "source": [
    "x1 = [2, 4, 6, 8, 10]\n",
    "y1 = [1, 3, 2, 4, 11]\n",
    "x2 = [1, 3, 5, 7, 9]\n",
    "y2 =[2, 5, 2, 3, 8]\n",
    "#x2 = np.array(x2) + 0.5 \n",
    "\n",
    "plt.bar(x1, y1, label='evens', color='red')\n",
    "plt.bar(x2, y2, label='odds', color='blue')\n",
    "\n",
    "plt.legend()\n",
    "plt.show()"
   ]
  },
  {
   "cell_type": "markdown",
   "metadata": {},
   "source": [
    "Lets experiment:\n",
    "- displaying only one bar chart\n",
    "- changing the colors\n",
    "- adding transparency\n",
    "- overlap plots\n",
    "- ..."
   ]
  },
  {
   "cell_type": "code",
   "execution_count": null,
   "metadata": {},
   "outputs": [],
   "source": [
    "x1 = [2, 4, 6, 8, 10]\n",
    "y1 = [1, 3, 2, 4, 11]\n",
    "x2 = [1, 3, 5, 7, 9]\n",
    "y2 =[2, 5, 2, 3, 8]\n",
    "#x2 = np.array(x2) + 0.5\n",
    "\n",
    "plt.bar(x1, y1 , label='evens', color='red', alpha=0.5)\n",
    "plt.bar(x2, y2, label='odds', color='blue', alpha=0.5)\n",
    "plt.legend()\n",
    "\n",
    "plt.show()"
   ]
  },
  {
   "cell_type": "markdown",
   "metadata": {},
   "source": [
    "#### A histogram is a type of (bar) graph that represents the distribution of numerical data. It consists of adjacent bins (bars or rectangles) where each rectangle’s height is representing the frequency of data points in that bin’s range. The width of each bin represents a specific interval of values.\n",
    "\n",
    "Histograms are useful for visualizing the distributions of the data, identifying its shape and patterns such as skewness, modality and detecting outliers.\n",
    "\n",
    "#### Example for histogram:"
   ]
  },
  {
   "cell_type": "code",
   "execution_count": null,
   "metadata": {},
   "outputs": [],
   "source": [
    "plt.hist?"
   ]
  },
  {
   "cell_type": "code",
   "execution_count": null,
   "metadata": {},
   "outputs": [],
   "source": [
    "population_ages = [60,99,66,44,43,61,13,6,17,61,84,20,69,81,87,101,20,45,68,103,107,46,64,8,93,90,104,71,2]\n",
    "plt.hist(population_ages, histtype='bar', rwidth=0.95)\n",
    "plt.show()"
   ]
  },
  {
   "cell_type": "markdown",
   "metadata": {},
   "source": [
    "Experiment:\n",
    "- the number of bins\n",
    "- the number of bins more than the number of elements in the dataset\n",
    "- specific bins with varying binsizes"
   ]
  },
  {
   "cell_type": "code",
   "execution_count": null,
   "metadata": {},
   "outputs": [],
   "source": [
    "population_ages = [60,99,66,44,43,61,13,6,17,61,84,20,69,81,87,101,20,45,68,103,107,46,64,8,93,90,104,71,2]\n",
    "bins = [0,10,20,30,40,50,60,70,80,90,100,110,120]\n",
    "plt.hist(population_ages, bins=bins, histtype='bar', rwidth=0.95)\n",
    "plt.show()"
   ]
  },
  {
   "cell_type": "markdown",
   "metadata": {},
   "source": [
    "#### A scatter plot is a graph representating numerical data pairs.\n",
    "It can show the relationship between two variables by plotting points on a graph, with one variable on each axis.\n",
    "\n",
    "#### Example for scatter plot:"
   ]
  },
  {
   "cell_type": "code",
   "execution_count": null,
   "metadata": {},
   "outputs": [],
   "source": [
    "#plt.figure(dpi=200)\n",
    "x = [60,99,66,44,43,61,13,6,17,61,84,20,69,81,87,101,20,45,68,103,107,46,64,8,93,90,104,71,2]\n",
    "y1 = [53,99,54,74,114,108,81,5,56,18,17,118,76,56,77,73,92,77,10,71,71,41,118,120,82,87,94,87,84]\n",
    "y2 = [109,84,83,13,13,120,115,5,59,35,63,103,29,6,76,29,62,37,108,11,36,97,26,72,44,46,12,83,3]\n",
    "plt.scatter(x, y1, color='b', label='blue', marker='*', s=200)\n",
    "plt.scatter(x, y2, color='r', label='red')\n",
    "plt.axvline(61, color='green', linestyle=\"dashed\")\n",
    "plt.title(\"scatter plot demo\")\n",
    "plt.xlabel(\"x\")\n",
    "plt.ylabel('y')\n",
    "plt.legend()\n",
    "plt.show()"
   ]
  },
  {
   "cell_type": "markdown",
   "metadata": {},
   "source": [
    "#### A stackplots is a graph showing how different components contribute to the whole.\n",
    "It is useful to display the distribution of data where each part is stacked on top of the others, showing a cumulative effect.\n",
    "\n",
    "#### Example for stack plot:"
   ]
  },
  {
   "cell_type": "code",
   "execution_count": null,
   "metadata": {},
   "outputs": [],
   "source": [
    "o = range(1, len(x)+1)\n",
    "plt.stackplot(o,x,y1,y2, colors=['r','g','b'])\n",
    "#plt.plot(o,x, color='k')\n",
    "plt.show()"
   ]
  },
  {
   "cell_type": "code",
   "execution_count": null,
   "metadata": {},
   "outputs": [],
   "source": [
    "w = list(np.array(x) + np.array(y1))\n",
    "v = list(np.array(x) + np.array(y1) + np.array(y2))\n",
    "\n",
    "o = range(1, len(x)+1)\n",
    "plt.stackplot(o,x,y1,y2, colors=['r','g','b'])\n",
    "plt.plot(o,x, color='w')\n",
    "plt.plot(o,w, color='pink')\n",
    "plt.plot(o,v, color='red')\n",
    "plt.show()"
   ]
  },
  {
   "cell_type": "markdown",
   "metadata": {},
   "source": [
    "#### A pie plot is a circular graph that represents proportions or percentages in slices.\n",
    "The area and arc length of each slice is proportional to the represented quantity. A pie plot displays only one series of data, the area of the plot is the total percentage of the data.\n",
    "\n",
    "#### Example for pie plot:"
   ]
  },
  {
   "cell_type": "code",
   "execution_count": null,
   "metadata": {},
   "outputs": [],
   "source": [
    "x[1:6]"
   ]
  },
  {
   "cell_type": "code",
   "execution_count": null,
   "metadata": {
    "scrolled": false
   },
   "outputs": [],
   "source": [
    "plt.pie(x[1:6], labels=[\"first\",\"second\",\"third\",\"fourth\",\"fifth\"], startangle=90, explode=(0,0,0,.1,0))\n",
    "plt.show()"
   ]
  },
  {
   "cell_type": "code",
   "execution_count": null,
   "metadata": {},
   "outputs": [],
   "source": [
    "x[1:26]"
   ]
  },
  {
   "cell_type": "code",
   "execution_count": null,
   "metadata": {},
   "outputs": [],
   "source": [
    "plt.pie(x)\n",
    "plt.show()"
   ]
  },
  {
   "cell_type": "markdown",
   "metadata": {},
   "source": [
    "#### Load and plot data from file:"
   ]
  },
  {
   "cell_type": "code",
   "execution_count": null,
   "metadata": {},
   "outputs": [],
   "source": [
    "# loading will error out if csv was not provided\n",
    "x, y, z = np.loadtxt('testload.csv', delimiter=',', unpack=True)\n",
    "plt.plot(x, y, color=\"red\")\n",
    "plt.plot(x, z)\n",
    "plt.show()"
   ]
  },
  {
   "cell_type": "markdown",
   "metadata": {},
   "source": [
    "Quick peek at the previously loaded and plotted data:"
   ]
  },
  {
   "cell_type": "code",
   "execution_count": null,
   "metadata": {},
   "outputs": [],
   "source": [
    "for i in range(int(len(x)/5)):\n",
    "    print(int(x[i]), '\\t', int(y[i]), '\\t', int(z[i]))\n",
    "print('...\\t...\\t...')"
   ]
  },
  {
   "cell_type": "markdown",
   "metadata": {},
   "source": [
    "... or simpler, use numpy array slicing:"
   ]
  },
  {
   "cell_type": "code",
   "execution_count": null,
   "metadata": {},
   "outputs": [],
   "source": [
    "print(x[:10])\n",
    "print(y[:10])\n",
    "print(z[:10])"
   ]
  },
  {
   "cell_type": "markdown",
   "metadata": {},
   "source": [
    "Some example for numpy's random methods:"
   ]
  },
  {
   "cell_type": "code",
   "execution_count": null,
   "metadata": {},
   "outputs": [],
   "source": [
    "np.random.randint(1, 7, 5)"
   ]
  },
  {
   "cell_type": "code",
   "execution_count": null,
   "metadata": {},
   "outputs": [],
   "source": [
    "np.random.choice(range(1,7), 5)"
   ]
  },
  {
   "cell_type": "code",
   "execution_count": null,
   "metadata": {},
   "outputs": [],
   "source": [
    "np.random.randn(3)"
   ]
  },
  {
   "cell_type": "code",
   "execution_count": null,
   "metadata": {},
   "outputs": [],
   "source": [
    "np.random.randn(1000000).mean()"
   ]
  },
  {
   "cell_type": "code",
   "execution_count": null,
   "metadata": {},
   "outputs": [],
   "source": [
    "somerandomstuff = np.random.choice(range(18,100), 1000)\n",
    "plt.hist(somerandomstuff)\n",
    "plt.show()"
   ]
  },
  {
   "cell_type": "code",
   "execution_count": null,
   "metadata": {},
   "outputs": [],
   "source": [
    "np.random.rand()"
   ]
  },
  {
   "cell_type": "code",
   "execution_count": null,
   "metadata": {},
   "outputs": [],
   "source": [
    "s2 = np.random.rand(100000)\n",
    "plt.hist(s2 ** 2, bins=100)\n",
    "plt.show()"
   ]
  },
  {
   "cell_type": "markdown",
   "metadata": {},
   "source": [
    "#### Exercise 6.1:\n",
    "Plot the below functions together between +/-4pi:\n",
    "- sin(x)\n",
    "- cos(x)\n",
    "- sin^2(x)\n",
    "- cos^2(x)\n",
    "- sin^2(x) + cos^2(x)\n",
    "\n",
    "Display both x and y axis and the grid\n",
    "\n",
    "Decorate the plot as much as possible"
   ]
  },
  {
   "cell_type": "code",
   "execution_count": null,
   "metadata": {},
   "outputs": [],
   "source": [
    "# Exercise 6.1 code:\n",
    "\n"
   ]
  },
  {
   "cell_type": "markdown",
   "metadata": {},
   "source": [
    "#### Exercise 6.2:\n",
    "- Generate 100,000 floats between 0 and 1 using np.random.rand\n",
    "- Plot its histogram\n",
    "- Find an ideal number to use as *bins*\n",
    "- Explain the result\n",
    "- Generate another set of 100,000 floats between 0 and 1\n",
    "- Plot (histogram) the element wise sum, difference, and product of the two set of floats\n",
    "- Explain the results"
   ]
  },
  {
   "cell_type": "code",
   "execution_count": null,
   "metadata": {},
   "outputs": [],
   "source": [
    "# Exercise 6.2 code:\n",
    "\n"
   ]
  },
  {
   "cell_type": "markdown",
   "metadata": {},
   "source": [
    "#### Exercise 6.3:\n",
    "- Plot the function y = 1/x on (-5, 5) interval\n",
    "- What type of plot have you used? Why? \n",
    "- Explain what challenges you faced"
   ]
  },
  {
   "cell_type": "code",
   "execution_count": null,
   "metadata": {},
   "outputs": [],
   "source": [
    "# Exercise 6.3 code:\n",
    "\n"
   ]
  },
  {
   "attachments": {
    "parabola.svg.png": {
     "image/png": "[encoded data removed]"
    }
   },
   "cell_type": "markdown",
   "metadata": {},
   "source": [
    "#### Exercise 6.4:\n",
    "Plot the parabola similar to the image on wikipedia: https://en.wikipedia.org/wiki/Parabola\n",
    "Use:\n",
    "* matplotlib\n",
    "* numpy and/or pandas\n",
    "Display as much as possible (priority order)\n",
    "* plot title\n",
    "* same parabola\n",
    "* grid\n",
    "* axis of symmetry\n",
    "* vertex\n",
    "* focus point\n",
    "* latus rectum\n",
    "* a point and two equal distance sections to directrix and focus point\n",
    "* right angle between one of the section and directrix\n",
    "* annotation\n",
    "![parabola.svg.png](attachment:parabola.svg.png)"
   ]
  },
  {
   "cell_type": "code",
   "execution_count": null,
   "metadata": {},
   "outputs": [],
   "source": [
    "# Exercise 6.4 code:\n",
    "\n"
   ]
  }
 ],
 "metadata": {
  "kernelspec": {
   "display_name": "Python 3 (ipykernel)",
   "language": "python",
   "name": "python3"
  },
  "language_info": {
   "codemirror_mode": {
    "name": "ipython",
    "version": 3
   },
   "file_extension": ".py",
   "mimetype": "text/x-python",
   "name": "python",
   "nbconvert_exporter": "python",
   "pygments_lexer": "ipython3",
   "version": "3.8.16"
  }
 },
 "nbformat": 4,
 "nbformat_minor": 2
}
