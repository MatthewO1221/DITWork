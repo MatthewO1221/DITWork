{
 "cells": [
  {
   "cell_type": "markdown",
   "metadata": {},
   "source": [
    "Pandas library was first developed by Wes McKinney in 2008 for data manipulation and analysis."
   ]
  },
  {
   "cell_type": "markdown",
   "metadata": {},
   "source": [
    "#### References:\n",
    "    www.python.org\n",
    "    www.numpy.org\n",
    "    www.matplotlib.org\n",
    "    https://pandas.pydata.org"
   ]
  },
  {
   "cell_type": "markdown",
   "metadata": {},
   "source": [
    "#### Questions/feedback: petert@digipen.edu"
   ]
  },
  {
   "cell_type": "markdown",
   "metadata": {},
   "source": [
    "# Chapter07: Pandas Series\n",
    "## pandas\n",
    "    - Series, Index, Values\n",
    "    - Selection and Filtering\n",
    "    \n",
    "A **Series** is a one-dimensional labeled array capable of holding data of any type. It is similar to a column or a row in a spreadsheet."
   ]
  },
  {
   "cell_type": "markdown",
   "metadata": {},
   "source": [
    "### Import pandas:\n",
    "    using 'pd'  is standard by Python users\n",
    "    import frequently used DataFrame and Series onto local namespace is a good practice"
   ]
  },
  {
   "cell_type": "code",
   "execution_count": 1,
   "metadata": {},
   "outputs": [],
   "source": [
    "import pandas as pd                     # using 'pd'  is standard by Python users\n",
    "#from pandas import DataFrame            # optional, good practice\n",
    "#from pandas import Series               # optional, good practice\n",
    "\n",
    "import numpy as np"
   ]
  },
  {
   "cell_type": "markdown",
   "metadata": {},
   "source": [
    "### Series\n",
    "    - one dimensional, similar to an array\n",
    "    - a sequence (series) of values\n",
    "    - associated (series of) data labels\n",
    "##### Examples:"
   ]
  },
  {
   "cell_type": "code",
   "execution_count": 4,
   "metadata": {},
   "outputs": [
    {
     "data": {
      "text/plain": [
       "['apple', 2.7, 5, 'Friday', 42]"
      ]
     },
     "execution_count": 4,
     "metadata": {},
     "output_type": "execute_result"
    }
   ],
   "source": [
    "['apple', 2.7, 5, 'Friday', 42]"
   ]
  },
  {
   "cell_type": "code",
   "execution_count": 6,
   "metadata": {},
   "outputs": [
    {
     "data": {
      "text/plain": [
       "0     apple\n",
       "1       2.7\n",
       "2         5\n",
       "3    Friday\n",
       "4        42\n",
       "dtype: object"
      ]
     },
     "execution_count": 6,
     "metadata": {},
     "output_type": "execute_result"
    }
   ],
   "source": [
    "pd.Series(['apple', 2.7, 5, 'Friday', 42])"
   ]
  },
  {
   "cell_type": "code",
   "execution_count": 8,
   "metadata": {},
   "outputs": [
    {
     "name": "stdout",
     "output_type": "stream",
     "text": [
      "<class 'pandas.core.series.Series'>\n"
     ]
    },
    {
     "data": {
      "text/plain": [
       "0     apple\n",
       "1       2.7\n",
       "2         5\n",
       "3    Friday\n",
       "4        42\n",
       "dtype: object"
      ]
     },
     "execution_count": 8,
     "metadata": {},
     "output_type": "execute_result"
    }
   ],
   "source": [
    "# create Series from a list of values\n",
    "myseries = pd.Series(['apple', 2.7, 5, 'Friday', 42])\n",
    "print(type(myseries))\n",
    "myseries"
   ]
  },
  {
   "cell_type": "code",
   "execution_count": 10,
   "metadata": {},
   "outputs": [],
   "source": [
    "l = ['apple', 2.7, 5, 'Friday', 42]"
   ]
  },
  {
   "cell_type": "code",
   "execution_count": 12,
   "metadata": {},
   "outputs": [
    {
     "data": {
      "text/plain": [
       "5"
      ]
     },
     "execution_count": 12,
     "metadata": {},
     "output_type": "execute_result"
    }
   ],
   "source": [
    "l[2]"
   ]
  },
  {
   "cell_type": "code",
   "execution_count": 14,
   "metadata": {},
   "outputs": [
    {
     "name": "stdout",
     "output_type": "stream",
     "text": [
      "['apple', 2.7, 5, 'Friday', 42]\n"
     ]
    }
   ],
   "source": [
    "print(['apple', 2.7, 5, 'Friday', 42])"
   ]
  },
  {
   "cell_type": "code",
   "execution_count": 16,
   "metadata": {},
   "outputs": [
    {
     "data": {
      "text/plain": [
       "pandas.core.series.Series"
      ]
     },
     "execution_count": 16,
     "metadata": {},
     "output_type": "execute_result"
    }
   ],
   "source": [
    "type(myseries)"
   ]
  },
  {
   "cell_type": "code",
   "execution_count": 18,
   "metadata": {},
   "outputs": [
    {
     "data": {
      "text/plain": [
       "5"
      ]
     },
     "execution_count": 18,
     "metadata": {},
     "output_type": "execute_result"
    }
   ],
   "source": [
    "myseries[2]"
   ]
  },
  {
   "cell_type": "markdown",
   "metadata": {},
   "source": [
    "Notes:\n",
    "- the data type is shown as object, the elements are ints, floats and strings\n",
    "- there is an index line starting from 0\n",
    "\n",
    "Let's see what happens if we create a series using integers and floats:"
   ]
  },
  {
   "cell_type": "code",
   "execution_count": 21,
   "metadata": {},
   "outputs": [
    {
     "data": {
      "text/plain": [
       "0    0\n",
       "1    1\n",
       "2    2\n",
       "3    3\n",
       "dtype: int64"
      ]
     },
     "execution_count": 21,
     "metadata": {},
     "output_type": "execute_result"
    }
   ],
   "source": [
    "# create Series from a numerical array of values (ints)\n",
    "myseries = pd.Series(range(4))\n",
    "myseries"
   ]
  },
  {
   "cell_type": "code",
   "execution_count": 23,
   "metadata": {},
   "outputs": [
    {
     "data": {
      "text/plain": [
       "0    0.0\n",
       "1    1.0\n",
       "2    2.0\n",
       "3    3.0\n",
       "dtype: float64"
      ]
     },
     "execution_count": 23,
     "metadata": {},
     "output_type": "execute_result"
    }
   ],
   "source": [
    "# create Series from a numerical array of values (floats)\n",
    "myseries = pd.Series(np.arange(4.0))  # using numpy array this time\n",
    "myseries"
   ]
  },
  {
   "cell_type": "markdown",
   "metadata": {},
   "source": [
    "Now let's mix: load a list of integers and floats:"
   ]
  },
  {
   "cell_type": "code",
   "execution_count": 26,
   "metadata": {},
   "outputs": [
    {
     "data": {
      "text/plain": [
       "0      3.14\n",
       "1      2.71\n",
       "2     42.00\n",
       "3    101.00\n",
       "dtype: float64"
      ]
     },
     "execution_count": 26,
     "metadata": {},
     "output_type": "execute_result"
    }
   ],
   "source": [
    "# specify a series of values and associated indices\n",
    "myseries = pd.Series([3.14, 2.71, 42, 101])\n",
    "myseries"
   ]
  },
  {
   "cell_type": "markdown",
   "metadata": {},
   "source": [
    "Now let's load a list of strings when creating a series:"
   ]
  },
  {
   "cell_type": "code",
   "execution_count": 29,
   "metadata": {},
   "outputs": [
    {
     "data": {
      "text/plain": [
       "0     first\n",
       "1    second\n",
       "2     third\n",
       "3    fourth\n",
       "dtype: object"
      ]
     },
     "execution_count": 29,
     "metadata": {},
     "output_type": "execute_result"
    }
   ],
   "source": [
    "# specify a series of values and associated indices\n",
    "myseries = pd.Series([\"first\", \"second\", \"third\", \"fourth\"])\n",
    "myseries"
   ]
  },
  {
   "cell_type": "code",
   "execution_count": 31,
   "metadata": {},
   "outputs": [
    {
     "data": {
      "text/plain": [
       "'third'"
      ]
     },
     "execution_count": 31,
     "metadata": {},
     "output_type": "execute_result"
    }
   ],
   "source": [
    "myseries[2]"
   ]
  },
  {
   "cell_type": "code",
   "execution_count": 33,
   "metadata": {},
   "outputs": [
    {
     "name": "stdout",
     "output_type": "stream",
     "text": [
      "<class 'str'>\n"
     ]
    }
   ],
   "source": [
    "print(type(myseries[2]))"
   ]
  },
  {
   "cell_type": "markdown",
   "metadata": {},
   "source": [
    "Notes:\n",
    "- The type of the series is recognized as object\n",
    "- Individual elements of the series are still recognized as string:"
   ]
  },
  {
   "cell_type": "code",
   "execution_count": 36,
   "metadata": {},
   "outputs": [
    {
     "name": "stdout",
     "output_type": "stream",
     "text": [
      "The type of the third element in the series: <class 'str'>\n"
     ]
    }
   ],
   "source": [
    "print(\"The type of the third element in the series:\", type(myseries[2]))"
   ]
  },
  {
   "cell_type": "markdown",
   "metadata": {},
   "source": [
    "##### Specifying and reordering the index\n",
    "Specify using a list if indices:"
   ]
  },
  {
   "cell_type": "code",
   "execution_count": 39,
   "metadata": {},
   "outputs": [
    {
     "data": {
      "text/plain": [
       "a     first | a\n",
       "c    second | c\n",
       "d     third | d\n",
       "b    fourth | b\n",
       "dtype: object"
      ]
     },
     "execution_count": 39,
     "metadata": {},
     "output_type": "execute_result"
    }
   ],
   "source": [
    "# specify a series of values and associated indices\n",
    "myseries = pd.Series([\"first | a\", \"second | c\", \"third | d\", \"fourth | b\"], index=['a', 'c', 'd', 'b'])\n",
    "myseries"
   ]
  },
  {
   "cell_type": "markdown",
   "metadata": {},
   "source": [
    "Reorder using a list if indices:"
   ]
  },
  {
   "cell_type": "code",
   "execution_count": 42,
   "metadata": {},
   "outputs": [
    {
     "data": {
      "text/plain": [
       "Index(['a', 'c', 'd', 'b'], dtype='object')"
      ]
     },
     "execution_count": 42,
     "metadata": {},
     "output_type": "execute_result"
    }
   ],
   "source": [
    "myseries.index"
   ]
  },
  {
   "cell_type": "code",
   "execution_count": 44,
   "metadata": {},
   "outputs": [
    {
     "data": {
      "text/plain": [
       "a     first | a\n",
       "b    second | c\n",
       "c     third | d\n",
       "d    fourth | b\n",
       "dtype: object"
      ]
     },
     "execution_count": 44,
     "metadata": {},
     "output_type": "execute_result"
    }
   ],
   "source": [
    "# reassign associated indices, note that the order of the values are not changing, only the index names\n",
    "myseries.index = ['a', 'b', 'c', 'd']\n",
    "myseries"
   ]
  },
  {
   "cell_type": "markdown",
   "metadata": {},
   "source": [
    "Note the indices were reordered, though the order of the series did not change"
   ]
  },
  {
   "cell_type": "markdown",
   "metadata": {},
   "source": [
    "##### Reference values and indices of a Series:"
   ]
  },
  {
   "cell_type": "code",
   "execution_count": 48,
   "metadata": {},
   "outputs": [
    {
     "name": "stdout",
     "output_type": "stream",
     "text": [
      "The series:\n",
      "a     first | a\n",
      "c    second | c\n",
      "d     third | d\n",
      "b    fourth | b\n",
      "dtype: object \n",
      "\n",
      "Index values:\n",
      "Index(['a', 'c', 'd', 'b'], dtype='object')\n",
      "\n",
      "Values in the series:\n",
      "['first | a' 'second | c' 'third | d' 'fourth | b']\n"
     ]
    }
   ],
   "source": [
    "# recreate the same Series\n",
    "myseries = pd.Series([\"first | a\", \"second | c\", \"third | d\", \"fourth | b\"], index=['a', 'c', 'd', 'b'])\n",
    "print(\"The series:\")\n",
    "print(myseries, \"\\n\")\n",
    "\n",
    "# retrieve index values\n",
    "print('Index values:')\n",
    "print(myseries.index)\n",
    "\n",
    "# retrieve values of the series\n",
    "print('\\nValues in the series:')\n",
    "print(myseries.values)"
   ]
  },
  {
   "cell_type": "markdown",
   "metadata": {},
   "source": [
    "Both the indices and the values are iterable:"
   ]
  },
  {
   "cell_type": "code",
   "execution_count": 51,
   "metadata": {},
   "outputs": [
    {
     "name": "stdout",
     "output_type": "stream",
     "text": [
      "The second index is: c\n",
      "The second value is: second | c\n"
     ]
    }
   ],
   "source": [
    "print(\"The second index is:\", myseries.index[1])\n",
    "print(\"The second value is:\", myseries.values[1])"
   ]
  },
  {
   "cell_type": "markdown",
   "metadata": {},
   "source": [
    "Reference and retrieve by index:"
   ]
  },
  {
   "cell_type": "code",
   "execution_count": 54,
   "metadata": {},
   "outputs": [
    {
     "data": {
      "text/plain": [
       "'second | c'"
      ]
     },
     "execution_count": 54,
     "metadata": {},
     "output_type": "execute_result"
    }
   ],
   "source": [
    "myseries['c']"
   ]
  },
  {
   "cell_type": "code",
   "execution_count": 56,
   "metadata": {},
   "outputs": [
    {
     "name": "stdout",
     "output_type": "stream",
     "text": [
      "Reference a single value by its index:\n",
      "second | c\n",
      "\n",
      "Reference multiple values by their indices:\n",
      "c    second | c\n",
      "a     first | a\n",
      "dtype: object\n"
     ]
    }
   ],
   "source": [
    "# reference and retrieve by index\n",
    "print('Reference a single value by its index:')\n",
    "print(myseries['c'])\n",
    "print('\\nReference multiple values by their indices:')\n",
    "# reference and retrieve by indeces\n",
    "print(myseries[['c', 'a']])"
   ]
  },
  {
   "cell_type": "code",
   "execution_count": 58,
   "metadata": {},
   "outputs": [
    {
     "data": {
      "text/plain": [
       "a     first | a\n",
       "c    second | c\n",
       "a     first | a\n",
       "dtype: object"
      ]
     },
     "execution_count": 58,
     "metadata": {},
     "output_type": "execute_result"
    }
   ],
   "source": [
    "l = ['a', 'c', 'a']\n",
    "myseries[l]"
   ]
  },
  {
   "cell_type": "code",
   "execution_count": 60,
   "metadata": {},
   "outputs": [
    {
     "data": {
      "text/plain": [
       "0      3.14\n",
       "1     42.00\n",
       "2      2.71\n",
       "3    101.00\n",
       "dtype: float64"
      ]
     },
     "execution_count": 60,
     "metadata": {},
     "output_type": "execute_result"
    }
   ],
   "source": [
    "pd.Series([3.14, 42, 2.71, 101])"
   ]
  },
  {
   "cell_type": "code",
   "execution_count": 62,
   "metadata": {},
   "outputs": [],
   "source": [
    "numberSeries = pd.Series([3.14, 42, 2.71, 101])"
   ]
  },
  {
   "cell_type": "code",
   "execution_count": 64,
   "metadata": {},
   "outputs": [
    {
     "data": {
      "text/plain": [
       "0      3.14\n",
       "1     42.00\n",
       "2      2.71\n",
       "3    101.00\n",
       "dtype: float64"
      ]
     },
     "execution_count": 64,
     "metadata": {},
     "output_type": "execute_result"
    }
   ],
   "source": [
    "numberSeries"
   ]
  },
  {
   "cell_type": "code",
   "execution_count": 66,
   "metadata": {},
   "outputs": [
    {
     "data": {
      "text/plain": [
       "0    False\n",
       "1     True\n",
       "2    False\n",
       "3     True\n",
       "dtype: bool"
      ]
     },
     "execution_count": 66,
     "metadata": {},
     "output_type": "execute_result"
    }
   ],
   "source": [
    "numberSeries > 40"
   ]
  },
  {
   "cell_type": "code",
   "execution_count": 68,
   "metadata": {},
   "outputs": [
    {
     "data": {
      "text/plain": [
       "1     42.0\n",
       "3    101.0\n",
       "dtype: float64"
      ]
     },
     "execution_count": 68,
     "metadata": {},
     "output_type": "execute_result"
    }
   ],
   "source": [
    "numberSeries[numberSeries > 40]"
   ]
  },
  {
   "cell_type": "code",
   "execution_count": 70,
   "metadata": {},
   "outputs": [
    {
     "name": "stdout",
     "output_type": "stream",
     "text": [
      "List all values if they are greater than 40:\n"
     ]
    },
    {
     "data": {
      "text/plain": [
       "1     42.0\n",
       "3    101.0\n",
       "dtype: float64"
      ]
     },
     "execution_count": 70,
     "metadata": {},
     "output_type": "execute_result"
    }
   ],
   "source": [
    "# retrieve values based on condition\n",
    "numberSeries = pd.Series([3.14, 42, 2.71, 101])\n",
    "print('List all values if they are greater than 40:')\n",
    "numberSeries[numberSeries>40]"
   ]
  },
  {
   "cell_type": "markdown",
   "metadata": {},
   "source": [
    "Lets go back to the indices and values\n",
    "\n",
    "Swap the values so they follow their original indices:"
   ]
  },
  {
   "cell_type": "code",
   "execution_count": 73,
   "metadata": {},
   "outputs": [
    {
     "data": {
      "text/plain": [
       "a     first | a\n",
       "c    second | c\n",
       "d     third | d\n",
       "b    fourth | b\n",
       "dtype: object"
      ]
     },
     "execution_count": 73,
     "metadata": {},
     "output_type": "execute_result"
    }
   ],
   "source": [
    "# recreate the same Series\n",
    "myseries = pd.Series([\"first | a\", \"second | c\", \"third | d\", \"fourth | b\"], \n",
    "                     index=['a', 'c', 'd', 'b'])\n",
    "myseries"
   ]
  },
  {
   "cell_type": "code",
   "execution_count": 75,
   "metadata": {},
   "outputs": [
    {
     "name": "stderr",
     "output_type": "stream",
     "text": [
      "C:\\Users\\KingLoui1221\\AppData\\Local\\Temp\\ipykernel_11832\\3411473472.py:1: FutureWarning: Series.__getitem__ treating keys as positions is deprecated. In a future version, integer keys will always be treated as labels (consistent with DataFrame behavior). To access a value by position, use `ser.iloc[pos]`\n",
      "  myseries[1]\n"
     ]
    },
    {
     "data": {
      "text/plain": [
       "'second | c'"
      ]
     },
     "execution_count": 75,
     "metadata": {},
     "output_type": "execute_result"
    }
   ],
   "source": [
    "myseries[1]"
   ]
  },
  {
   "cell_type": "code",
   "execution_count": 77,
   "metadata": {},
   "outputs": [
    {
     "name": "stderr",
     "output_type": "stream",
     "text": [
      "C:\\Users\\KingLoui1221\\AppData\\Local\\Temp\\ipykernel_11832\\2767873435.py:2: FutureWarning: Series.__getitem__ treating keys as positions is deprecated. In a future version, integer keys will always be treated as labels (consistent with DataFrame behavior). To access a value by position, use `ser.iloc[pos]`\n",
      "  t = myseries[1]   # store 2nd temporarily\n",
      "C:\\Users\\KingLoui1221\\AppData\\Local\\Temp\\ipykernel_11832\\2767873435.py:3: FutureWarning: Series.__getitem__ treating keys as positions is deprecated. In a future version, integer keys will always be treated as labels (consistent with DataFrame behavior). To access a value by position, use `ser.iloc[pos]`\n",
      "  myseries[1] = myseries[3]\n",
      "C:\\Users\\KingLoui1221\\AppData\\Local\\Temp\\ipykernel_11832\\2767873435.py:3: FutureWarning: Series.__setitem__ treating keys as positions is deprecated. In a future version, integer keys will always be treated as labels (consistent with DataFrame behavior). To set a value by position, use `ser.iloc[pos] = value`\n",
      "  myseries[1] = myseries[3]\n",
      "C:\\Users\\KingLoui1221\\AppData\\Local\\Temp\\ipykernel_11832\\2767873435.py:4: FutureWarning: Series.__setitem__ treating keys as positions is deprecated. In a future version, integer keys will always be treated as labels (consistent with DataFrame behavior). To set a value by position, use `ser.iloc[pos] = value`\n",
      "  myseries[3] = t\n"
     ]
    },
    {
     "data": {
      "text/plain": [
       "a     first | a\n",
       "c    fourth | b\n",
       "d     third | d\n",
       "b    second | c\n",
       "dtype: object"
      ]
     },
     "execution_count": 77,
     "metadata": {},
     "output_type": "execute_result"
    }
   ],
   "source": [
    "# swap 2nd and 4th elements\n",
    "t = myseries[1]   # store 2nd temporarily\n",
    "myseries[1] = myseries[3]\n",
    "myseries[3] = t\n",
    "myseries"
   ]
  },
  {
   "cell_type": "code",
   "execution_count": 79,
   "metadata": {},
   "outputs": [
    {
     "name": "stderr",
     "output_type": "stream",
     "text": [
      "C:\\Users\\KingLoui1221\\AppData\\Local\\Temp\\ipykernel_11832\\2605511693.py:2: FutureWarning: Series.__getitem__ treating keys as positions is deprecated. In a future version, integer keys will always be treated as labels (consistent with DataFrame behavior). To access a value by position, use `ser.iloc[pos]`\n",
      "  t = myseries[2]\n",
      "C:\\Users\\KingLoui1221\\AppData\\Local\\Temp\\ipykernel_11832\\2605511693.py:3: FutureWarning: Series.__getitem__ treating keys as positions is deprecated. In a future version, integer keys will always be treated as labels (consistent with DataFrame behavior). To access a value by position, use `ser.iloc[pos]`\n",
      "  myseries[2] = myseries[3]\n",
      "C:\\Users\\KingLoui1221\\AppData\\Local\\Temp\\ipykernel_11832\\2605511693.py:3: FutureWarning: Series.__setitem__ treating keys as positions is deprecated. In a future version, integer keys will always be treated as labels (consistent with DataFrame behavior). To set a value by position, use `ser.iloc[pos] = value`\n",
      "  myseries[2] = myseries[3]\n",
      "C:\\Users\\KingLoui1221\\AppData\\Local\\Temp\\ipykernel_11832\\2605511693.py:4: FutureWarning: Series.__setitem__ treating keys as positions is deprecated. In a future version, integer keys will always be treated as labels (consistent with DataFrame behavior). To set a value by position, use `ser.iloc[pos] = value`\n",
      "  myseries[3] = t\n"
     ]
    },
    {
     "data": {
      "text/plain": [
       "a     first | a\n",
       "c    fourth | b\n",
       "d    second | c\n",
       "b     third | d\n",
       "dtype: object"
      ]
     },
     "execution_count": 79,
     "metadata": {},
     "output_type": "execute_result"
    }
   ],
   "source": [
    "# now swap 3rd and 4th elements\n",
    "t = myseries[2]\n",
    "myseries[2] = myseries[3]\n",
    "myseries[3] = t\n",
    "myseries"
   ]
  },
  {
   "cell_type": "markdown",
   "metadata": {},
   "source": [
    "Notice that now the indices have not changed\n",
    "\n",
    "How to handle such operation if there is no built in method? Write your own function!"
   ]
  },
  {
   "cell_type": "code",
   "execution_count": 82,
   "metadata": {},
   "outputs": [],
   "source": [
    "# swap takes two numbers as indices and a series\n",
    "def swap(n,m,s):\n",
    "    tv = s[n]\n",
    "    ti = s.index.values[n]\n",
    "    \n",
    "    s[n] = s[m]\n",
    "    s.index.values[n] = s.index.values[m]\n",
    "    \n",
    "    s[m] = tv\n",
    "    s.index.values[m] = ti\n",
    "    \n",
    "    print(s)"
   ]
  },
  {
   "cell_type": "code",
   "execution_count": 84,
   "metadata": {},
   "outputs": [
    {
     "data": {
      "text/plain": [
       "a     first | a\n",
       "c    second | c\n",
       "d     third | d\n",
       "b    fourth | b\n",
       "dtype: object"
      ]
     },
     "execution_count": 84,
     "metadata": {},
     "output_type": "execute_result"
    }
   ],
   "source": [
    "# specify the original series again\n",
    "myseries = pd.Series([\"first | a\", \"second | c\", \"third | d\", \"fourth | b\"], index=['a', 'c', 'd', 'b'])\n",
    "myseries"
   ]
  },
  {
   "cell_type": "markdown",
   "metadata": {},
   "source": [
    "Swap 2nd and 4th elements:"
   ]
  },
  {
   "cell_type": "code",
   "execution_count": 87,
   "metadata": {},
   "outputs": [
    {
     "name": "stdout",
     "output_type": "stream",
     "text": [
      "a     first | a\n",
      "b    fourth | b\n",
      "d     third | d\n",
      "c    second | c\n",
      "dtype: object\n"
     ]
    },
    {
     "name": "stderr",
     "output_type": "stream",
     "text": [
      "C:\\Users\\KingLoui1221\\AppData\\Local\\Temp\\ipykernel_11832\\1764327136.py:3: FutureWarning: Series.__getitem__ treating keys as positions is deprecated. In a future version, integer keys will always be treated as labels (consistent with DataFrame behavior). To access a value by position, use `ser.iloc[pos]`\n",
      "  tv = s[n]\n",
      "C:\\Users\\KingLoui1221\\AppData\\Local\\Temp\\ipykernel_11832\\1764327136.py:6: FutureWarning: Series.__getitem__ treating keys as positions is deprecated. In a future version, integer keys will always be treated as labels (consistent with DataFrame behavior). To access a value by position, use `ser.iloc[pos]`\n",
      "  s[n] = s[m]\n",
      "C:\\Users\\KingLoui1221\\AppData\\Local\\Temp\\ipykernel_11832\\1764327136.py:6: FutureWarning: Series.__setitem__ treating keys as positions is deprecated. In a future version, integer keys will always be treated as labels (consistent with DataFrame behavior). To set a value by position, use `ser.iloc[pos] = value`\n",
      "  s[n] = s[m]\n",
      "C:\\Users\\KingLoui1221\\AppData\\Local\\Temp\\ipykernel_11832\\1764327136.py:9: FutureWarning: Series.__setitem__ treating keys as positions is deprecated. In a future version, integer keys will always be treated as labels (consistent with DataFrame behavior). To set a value by position, use `ser.iloc[pos] = value`\n",
      "  s[m] = tv\n"
     ]
    }
   ],
   "source": [
    "swap(1, 3, myseries)"
   ]
  },
  {
   "cell_type": "markdown",
   "metadata": {},
   "source": [
    "Swap 3rd and 4th elements:"
   ]
  },
  {
   "cell_type": "code",
   "execution_count": 90,
   "metadata": {},
   "outputs": [
    {
     "name": "stdout",
     "output_type": "stream",
     "text": [
      "a     first | a\n",
      "b    fourth | b\n",
      "c    second | c\n",
      "d     third | d\n",
      "dtype: object\n"
     ]
    },
    {
     "name": "stderr",
     "output_type": "stream",
     "text": [
      "C:\\Users\\KingLoui1221\\AppData\\Local\\Temp\\ipykernel_11832\\1764327136.py:3: FutureWarning: Series.__getitem__ treating keys as positions is deprecated. In a future version, integer keys will always be treated as labels (consistent with DataFrame behavior). To access a value by position, use `ser.iloc[pos]`\n",
      "  tv = s[n]\n",
      "C:\\Users\\KingLoui1221\\AppData\\Local\\Temp\\ipykernel_11832\\1764327136.py:6: FutureWarning: Series.__getitem__ treating keys as positions is deprecated. In a future version, integer keys will always be treated as labels (consistent with DataFrame behavior). To access a value by position, use `ser.iloc[pos]`\n",
      "  s[n] = s[m]\n",
      "C:\\Users\\KingLoui1221\\AppData\\Local\\Temp\\ipykernel_11832\\1764327136.py:6: FutureWarning: Series.__setitem__ treating keys as positions is deprecated. In a future version, integer keys will always be treated as labels (consistent with DataFrame behavior). To set a value by position, use `ser.iloc[pos] = value`\n",
      "  s[n] = s[m]\n",
      "C:\\Users\\KingLoui1221\\AppData\\Local\\Temp\\ipykernel_11832\\1764327136.py:9: FutureWarning: Series.__setitem__ treating keys as positions is deprecated. In a future version, integer keys will always be treated as labels (consistent with DataFrame behavior). To set a value by position, use `ser.iloc[pos] = value`\n",
      "  s[m] = tv\n"
     ]
    }
   ],
   "source": [
    "swap(2, 3, myseries)"
   ]
  },
  {
   "cell_type": "markdown",
   "metadata": {},
   "source": [
    "Now both values and indices are swapped at the same time."
   ]
  },
  {
   "cell_type": "code",
   "execution_count": 93,
   "metadata": {},
   "outputs": [
    {
     "data": {
      "text/plain": [
       "a           first | a\n",
       "a    second first | a\n",
       "c          second | c\n",
       "d           third | d\n",
       "b          fourth | b\n",
       "dtype: object"
      ]
     },
     "execution_count": 93,
     "metadata": {},
     "output_type": "execute_result"
    }
   ],
   "source": [
    "myseries = pd.Series([\"first | a\", \"second first | a\", \"second | c\", \"third | d\", \"fourth | b\"], \n",
    "                     index=['a', 'a', 'c', 'd', 'b'])\n",
    "myseries"
   ]
  },
  {
   "cell_type": "code",
   "execution_count": 95,
   "metadata": {},
   "outputs": [
    {
     "data": {
      "text/plain": [
       "a           first | a\n",
       "a    second first | a\n",
       "dtype: object"
      ]
     },
     "execution_count": 95,
     "metadata": {},
     "output_type": "execute_result"
    }
   ],
   "source": [
    "myseries['a']"
   ]
  },
  {
   "cell_type": "code",
   "execution_count": 97,
   "metadata": {},
   "outputs": [
    {
     "name": "stderr",
     "output_type": "stream",
     "text": [
      "C:\\Users\\KingLoui1221\\AppData\\Local\\Temp\\ipykernel_11832\\1918515263.py:1: FutureWarning: Series.__getitem__ treating keys as positions is deprecated. In a future version, integer keys will always be treated as labels (consistent with DataFrame behavior). To access a value by position, use `ser.iloc[pos]`\n",
      "  myseries[2]\n"
     ]
    },
    {
     "data": {
      "text/plain": [
       "'second | c'"
      ]
     },
     "execution_count": 97,
     "metadata": {},
     "output_type": "execute_result"
    }
   ],
   "source": [
    "myseries[2]"
   ]
  },
  {
   "cell_type": "code",
   "execution_count": 99,
   "metadata": {},
   "outputs": [
    {
     "data": {
      "text/plain": [
       "array(['first | a', 'second first | a', 'second | c', 'third | d',\n",
       "       'fourth | b'], dtype=object)"
      ]
     },
     "execution_count": 99,
     "metadata": {},
     "output_type": "execute_result"
    }
   ],
   "source": [
    "myseries.values"
   ]
  },
  {
   "cell_type": "code",
   "execution_count": 101,
   "metadata": {},
   "outputs": [
    {
     "data": {
      "text/plain": [
       "Index(['a', 'a', 'c', 'd', 'b'], dtype='object')"
      ]
     },
     "execution_count": 101,
     "metadata": {},
     "output_type": "execute_result"
    }
   ],
   "source": [
    "myseries.index"
   ]
  },
  {
   "cell_type": "markdown",
   "metadata": {},
   "source": [
    "#### Exercise 7.1:\n",
    "Create a series:\n",
    "- create a series using 5 random integers between 1 and 9\n",
    "- display a pie chart using pd.Series.plot.pie()"
   ]
  },
  {
   "cell_type": "code",
   "execution_count": 121,
   "metadata": {},
   "outputs": [
    {
     "name": "stdout",
     "output_type": "stream",
     "text": [
      "0    3\n",
      "1    5\n",
      "2    3\n",
      "3    9\n",
      "4    1\n",
      "dtype: int32\n"
     ]
    },
    {
     "data": {
      "text/plain": [
       "<Axes: >"
      ]
     },
     "execution_count": 121,
     "metadata": {},
     "output_type": "execute_result"
    },
    {
     "data": {
      "image/png": "[encoded data removed]",
      "text/plain": [
       "<Figure size 640x480 with 1 Axes>"
      ]
     },
     "metadata": {},
     "output_type": "display_data"
    }
   ],
   "source": [
    "# Exercise 7.1 code:\n",
    "\n",
    "matthewSeries = pd.Series(np.random.randint(1,10,size = 5))\n",
    "\n",
    "print(matthewSeries)\n",
    "\n",
    "matthewSeries.plot.pie()"
   ]
  },
  {
   "cell_type": "markdown",
   "metadata": {},
   "source": [
    "#### Exercise 7.2:\n",
    "- create a series using 20 random integers between 1 and 9\n",
    "- display a histogram using pd.Series.plot.hist()"
   ]
  },
  {
   "cell_type": "code",
   "execution_count": 126,
   "metadata": {},
   "outputs": [
    {
     "name": "stdout",
     "output_type": "stream",
     "text": [
      "0     5\n",
      "1     2\n",
      "2     1\n",
      "3     6\n",
      "4     6\n",
      "5     8\n",
      "6     5\n",
      "7     9\n",
      "8     9\n",
      "9     6\n",
      "10    9\n",
      "11    8\n",
      "12    3\n",
      "13    2\n",
      "14    3\n",
      "15    6\n",
      "16    3\n",
      "17    4\n",
      "18    1\n",
      "19    5\n",
      "dtype: int32\n"
     ]
    },
    {
     "data": {
      "text/plain": [
       "<Axes: ylabel='Frequency'>"
      ]
     },
     "execution_count": 126,
     "metadata": {},
     "output_type": "execute_result"
    },
    {
     "data": {
      "image/png": "[encoded data removed]",
      "text/plain": [
       "<Figure size 640x480 with 1 Axes>"
      ]
     },
     "metadata": {},
     "output_type": "display_data"
    }
   ],
   "source": [
    "# Exercise 7.2 code:\n",
    "\n",
    "matthewSeries2 = pd.Series(np.random.randint(1,10,size = 20))\n",
    "\n",
    "print(matthewSeries2)\n",
    "\n",
    "matthewSeries2.plot.hist()"
   ]
  },
  {
   "cell_type": "markdown",
   "metadata": {},
   "source": [
    "#### Exercise 7.3:\n",
    "- create a series using 20 random integers between 1 and 9\n",
    "- display a box plot using pd.Series.plot.box()"
   ]
  },
  {
   "cell_type": "code",
   "execution_count": 128,
   "metadata": {},
   "outputs": [
    {
     "name": "stdout",
     "output_type": "stream",
     "text": [
      "0     3\n",
      "1     4\n",
      "2     9\n",
      "3     4\n",
      "4     6\n",
      "5     1\n",
      "6     8\n",
      "7     9\n",
      "8     3\n",
      "9     6\n",
      "10    9\n",
      "11    9\n",
      "12    8\n",
      "13    7\n",
      "14    9\n",
      "15    5\n",
      "16    1\n",
      "17    6\n",
      "18    4\n",
      "19    5\n",
      "dtype: int32\n"
     ]
    },
    {
     "data": {
      "text/plain": [
       "<Axes: >"
      ]
     },
     "execution_count": 128,
     "metadata": {},
     "output_type": "execute_result"
    },
    {
     "data": {
      "image/png": "[encoded data removed]",
      "text/plain": [
       "<Figure size 640x480 with 1 Axes>"
      ]
     },
     "metadata": {},
     "output_type": "display_data"
    }
   ],
   "source": [
    "# Exercise 7.3 code:\n",
    "\n",
    "matthewSeries3 = pd.Series(np.random.randint(1,10,size = 20))\n",
    "\n",
    "print(matthewSeries3)\n",
    "\n",
    "matthewSeries3.plot.box()"
   ]
  },
  {
   "cell_type": "code",
   "execution_count": null,
   "metadata": {},
   "outputs": [],
   "source": []
  }
 ],
 "metadata": {
  "kernelspec": {
   "display_name": "Python 3 (ipykernel)",
   "language": "python",
   "name": "python3"
  },
  "language_info": {
   "codemirror_mode": {
    "name": "ipython",
    "version": 3
   },
   "file_extension": ".py",
   "mimetype": "text/x-python",
   "name": "python",
   "nbconvert_exporter": "python",
   "pygments_lexer": "ipython3",
   "version": "3.12.4"
  }
 },
 "nbformat": 4,
 "nbformat_minor": 4
}
