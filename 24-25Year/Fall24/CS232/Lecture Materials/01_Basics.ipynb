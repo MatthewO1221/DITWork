{
 "cells": [
  {
   "cell_type": "markdown",
   "metadata": {},
   "source": [
    "**Python** is an interpreted, high-level, general-purpose programming language that lets you work more quickly and integrate your systems more effectively. Created by Guido van Rossum, first released in 1991."
   ]
  },
  {
   "cell_type": "markdown",
   "metadata": {},
   "source": [
    "**Jupyter Notebook** is an interactive computing environment that enables users to author notebook documents: live code, plots, descriptive text, equations, images, video, etc."
   ]
  },
  {
   "cell_type": "markdown",
   "metadata": {},
   "source": [
    "#### References:\n",
    "    www.python.org"
   ]
  },
  {
   "cell_type": "markdown",
   "metadata": {},
   "source": [
    "#### Questions/feedback: petert@digipen.edu"
   ]
  },
  {
   "cell_type": "markdown",
   "metadata": {},
   "source": [
    "# Chapter01: Basics"
   ]
  },
  {
   "cell_type": "markdown",
   "metadata": {},
   "source": [
    "# Basics:\n",
    "    - Hello !!!\n",
    "    - print() function\n",
    "    - Code commenting\n",
    "    - Variables\n",
    "    - Strings\n",
    "    - type() and len() functions\n",
    "    - Operators\n",
    "    - Strings, integers, floats\n",
    "    - Error types\n",
    "    - Escaping characters"
   ]
  },
  {
   "cell_type": "markdown",
   "metadata": {},
   "source": [
    "#### Hello DigiPen!\n",
    "    print() function\n",
    "    Write the usual 'Hello World' program:"
   ]
  },
  {
   "cell_type": "code",
   "execution_count": null,
   "metadata": {},
   "outputs": [],
   "source": [
    "print('Hello DigiPen!')"
   ]
  },
  {
   "cell_type": "markdown",
   "metadata": {},
   "source": [
    "#### Commenting\n",
    "    single line comment\n",
    "    multiline comment"
   ]
  },
  {
   "cell_type": "code",
   "execution_count": null,
   "metadata": {},
   "outputs": [],
   "source": [
    "# this is a comment, this single line won't get executed\n",
    "print(\"Hello Dragons!\")\n",
    "\n",
    "print(\"Hello Again!\")   # this is a comment, nothing gets executed after the # sign from this line\n",
    "\n",
    "''' this is a multiline comment,\n",
    "this section \n",
    "won't be executed \n",
    "until closing it\n",
    "print(\"This is part of a multiline commented section, won't be printed/executed\")\n",
    "'''\n",
    "print(\"Hello Again, Dragons!\")"
   ]
  },
  {
   "cell_type": "markdown",
   "metadata": {},
   "source": [
    "#### Variables\n",
    "    assign specific values to variable\n",
    "    print values of variables"
   ]
  },
  {
   "cell_type": "code",
   "execution_count": null,
   "metadata": {},
   "outputs": [],
   "source": [
    "# x is a variable, we assign value 2 to x\n",
    "x = 2\n",
    "\n",
    "# y is another value, 3 more than x\n",
    "y = x + 3\n",
    "\n",
    "# print x and y variables\n",
    "print(x)\n",
    "print(y)\n",
    "\n",
    "# call x and y variables\n",
    "x\n",
    "y"
   ]
  },
  {
   "cell_type": "markdown",
   "metadata": {},
   "source": [
    "#### Strings\n",
    "    string = a sequence of characters\n",
    "##### Examples:\n",
    "    abc\n",
    "    a\n",
    "    \n",
    "    ab*Cd ef4 2g!%xyz\n",
    "    42"
   ]
  },
  {
   "cell_type": "code",
   "execution_count": null,
   "metadata": {},
   "outputs": [],
   "source": [
    "print(\"Hello\")\n",
    "print('DigiPen!')"
   ]
  },
  {
   "cell_type": "code",
   "execution_count": null,
   "metadata": {},
   "outputs": [],
   "source": [
    "print(\"Dragon's lair\")"
   ]
  },
  {
   "cell_type": "code",
   "execution_count": null,
   "metadata": {},
   "outputs": [],
   "source": [
    "s = \"Dragon's lair\"\n",
    "print(s)"
   ]
  },
  {
   "cell_type": "markdown",
   "metadata": {},
   "source": [
    "We still have access to string variable *s*, let's retrieve its length:"
   ]
  },
  {
   "cell_type": "code",
   "execution_count": null,
   "metadata": {},
   "outputs": [],
   "source": [
    "len(s)"
   ]
  },
  {
   "cell_type": "markdown",
   "metadata": {},
   "source": [
    "... and its type:"
   ]
  },
  {
   "cell_type": "code",
   "execution_count": null,
   "metadata": {},
   "outputs": [],
   "source": [
    "type(s)"
   ]
  },
  {
   "cell_type": "markdown",
   "metadata": {},
   "source": [
    "Is space a character?"
   ]
  },
  {
   "cell_type": "code",
   "execution_count": null,
   "metadata": {},
   "outputs": [],
   "source": [
    "type(' ')"
   ]
  },
  {
   "cell_type": "markdown",
   "metadata": {},
   "source": [
    "It's a string type!\n",
    "\n",
    "How about 'nothing'?"
   ]
  },
  {
   "cell_type": "code",
   "execution_count": null,
   "metadata": {},
   "outputs": [],
   "source": [
    "type('')"
   ]
  },
  {
   "cell_type": "markdown",
   "metadata": {},
   "source": [
    "\"42\" is also a string. It's a sequence of character 4 and character 2\n",
    "\n",
    "42 is a number"
   ]
  },
  {
   "cell_type": "code",
   "execution_count": null,
   "metadata": {},
   "outputs": [],
   "source": [
    "s = \"42\"             # or in single quotes: '42'\n",
    "print(s)\n",
    "print(type(s))\n",
    "s = 42\n",
    "print(s)\n",
    "print(type(s))"
   ]
  },
  {
   "cell_type": "markdown",
   "metadata": {},
   "source": [
    "Let's mix numbers and strings:"
   ]
  },
  {
   "cell_type": "code",
   "execution_count": null,
   "metadata": {},
   "outputs": [],
   "source": [
    "s = \"42bc\"\n",
    "print(s)\n",
    "print(type(s))"
   ]
  },
  {
   "cell_type": "code",
   "execution_count": null,
   "metadata": {},
   "outputs": [],
   "source": [
    "s = 42abc            # try to assign as a number\n",
    "print(s)\n",
    "print(type(s))"
   ]
  },
  {
   "cell_type": "markdown",
   "metadata": {},
   "source": [
    "#### Integers are whole numbers:\n",
    "    ... -3, -2, -1, 0, 1, 2, 3, ... "
   ]
  },
  {
   "cell_type": "code",
   "execution_count": null,
   "metadata": {},
   "outputs": [],
   "source": [
    "myvar = 42\n",
    "print(type(myvar))\n",
    "print(myvar + 2)\n",
    "print(myvar * 2)\n",
    "print(myvar - 2)\n",
    "print(myvar ** 2)\n",
    "print(myvar % 5)\n",
    "print(-myvar)"
   ]
  },
  {
   "cell_type": "markdown",
   "metadata": {},
   "source": [
    "We can reassign the variable used to hold an integer to reflect a string:"
   ]
  },
  {
   "cell_type": "code",
   "execution_count": null,
   "metadata": {},
   "outputs": [],
   "source": [
    "myvar = \"Digi and Pen\"\n",
    "print(myvar)\n",
    "print(type(myvar))"
   ]
  },
  {
   "cell_type": "markdown",
   "metadata": {},
   "source": [
    "#### Assignment Operator:\n",
    "    =       Important!!! Do not mixup with == which stands for equality comparison operator\n",
    "\n",
    "#### Comparison Operators:\n",
    "    <       less than               a < b\n",
    "    >       greater than            a > b\n",
    "    ==      equal                   a == b\n",
    "    <=      less than or equal      a <= b\n",
    "    >=      greater than or equal   a >= b\n",
    "    !=      not equal               a != b\n",
    "    is      same object             a is b\n",
    "    is not  different object        a is not b"
   ]
  },
  {
   "cell_type": "code",
   "execution_count": null,
   "metadata": {},
   "outputs": [],
   "source": [
    "x = 2\n",
    "print(x)"
   ]
  },
  {
   "cell_type": "code",
   "execution_count": null,
   "metadata": {},
   "outputs": [],
   "source": [
    "2 + 3 == 4"
   ]
  },
  {
   "cell_type": "code",
   "execution_count": null,
   "metadata": {},
   "outputs": [],
   "source": [
    "3 <= 3"
   ]
  },
  {
   "cell_type": "markdown",
   "metadata": {},
   "source": [
    "#### Mathematical Operators:\n",
    "    +       addition          a + b\n",
    "    -       substraction      a - b\n",
    "    *       multiplication    a * b\n",
    "    /       division          a / b\n",
    "    **      exponent          a ** b\n",
    "    %       modulo            a % b\n",
    "    //      floor             a // b\n"
   ]
  },
  {
   "cell_type": "markdown",
   "metadata": {},
   "source": [
    "#### Logical Operators:\n",
    "    &       AND               a & b\n",
    "    |       OR                a | b\n",
    "    ^       XOR               a ^ b"
   ]
  },
  {
   "cell_type": "code",
   "execution_count": null,
   "metadata": {},
   "outputs": [],
   "source": [
    "False + True"
   ]
  },
  {
   "cell_type": "markdown",
   "metadata": {},
   "source": [
    "#### Strings and integers:\n",
    "\n",
    "    Combine strings  with strings\n",
    "    Combine strings  with integers\n",
    "    Combine integers with strings\n",
    "    Combine integers with integers"
   ]
  },
  {
   "cell_type": "markdown",
   "metadata": {},
   "source": [
    "Print a literal string and an integer at the same time:"
   ]
  },
  {
   "cell_type": "code",
   "execution_count": null,
   "metadata": {},
   "outputs": [],
   "source": [
    "print('x = 2')\n",
    "x = 2\n",
    "print('y = 3')\n",
    "y = 3\n",
    "print('x + y =', x + y)"
   ]
  },
  {
   "cell_type": "markdown",
   "metadata": {},
   "source": [
    "Printing combined text in two different ways:"
   ]
  },
  {
   "cell_type": "code",
   "execution_count": null,
   "metadata": {},
   "outputs": [],
   "source": [
    "print(\"a = 'Digi'\")\n",
    "a = 'Digi'\n",
    "print(\"b = 'Pen'\")\n",
    "b = 'Pen'\n",
    "print('a + b =', a + b)   # add strings\n",
    "print('a , b = ', a, b)    # set of strings"
   ]
  },
  {
   "cell_type": "markdown",
   "metadata": {},
   "source": [
    "Convert number to string:"
   ]
  },
  {
   "cell_type": "code",
   "execution_count": null,
   "metadata": {},
   "outputs": [],
   "source": [
    "a"
   ]
  },
  {
   "cell_type": "code",
   "execution_count": null,
   "metadata": {},
   "outputs": [],
   "source": [
    "x"
   ]
  },
  {
   "cell_type": "code",
   "execution_count": null,
   "metadata": {},
   "outputs": [],
   "source": [
    "print(a + x)"
   ]
  },
  {
   "cell_type": "code",
   "execution_count": null,
   "metadata": {},
   "outputs": [],
   "source": [
    "x"
   ]
  },
  {
   "cell_type": "code",
   "execution_count": null,
   "metadata": {},
   "outputs": [],
   "source": [
    "str(x)"
   ]
  },
  {
   "cell_type": "code",
   "execution_count": null,
   "metadata": {},
   "outputs": [],
   "source": [
    "print(a + str(x))"
   ]
  },
  {
   "cell_type": "markdown",
   "metadata": {},
   "source": [
    "Convert string to number:"
   ]
  },
  {
   "cell_type": "code",
   "execution_count": null,
   "metadata": {},
   "outputs": [],
   "source": [
    "a = \"7\"\n",
    "print(a)\n",
    "print(type(a))\n",
    "print(int(a))\n",
    "print(type(int(a)))"
   ]
  },
  {
   "cell_type": "markdown",
   "metadata": {},
   "source": [
    "#### Float\n",
    "    - decimal numbers\n",
    "    - range and precision"
   ]
  },
  {
   "cell_type": "code",
   "execution_count": null,
   "metadata": {},
   "outputs": [],
   "source": [
    "p = 3.14159265358\n",
    "print(p)\n",
    "print(type(p))"
   ]
  },
  {
   "cell_type": "code",
   "execution_count": null,
   "metadata": {},
   "outputs": [],
   "source": [
    "type(12.345)"
   ]
  },
  {
   "cell_type": "code",
   "execution_count": null,
   "metadata": {},
   "outputs": [],
   "source": [
    "print(int(p))"
   ]
  },
  {
   "cell_type": "code",
   "execution_count": null,
   "metadata": {},
   "outputs": [],
   "source": [
    "print(type(int(p)))"
   ]
  },
  {
   "cell_type": "code",
   "execution_count": null,
   "metadata": {},
   "outputs": [],
   "source": [
    "type(p)"
   ]
  },
  {
   "cell_type": "code",
   "execution_count": null,
   "metadata": {},
   "outputs": [],
   "source": [
    "print(p)"
   ]
  },
  {
   "cell_type": "markdown",
   "metadata": {},
   "source": [
    "#### Errors\n",
    "    - TypeError\n",
    "    - SyntaxError\n",
    "    - NameError\n",
    "    - ZeroDivisionError\n",
    "    - Etc.    "
   ]
  },
  {
   "cell_type": "code",
   "execution_count": null,
   "metadata": {},
   "outputs": [],
   "source": [
    "a = 'abc'\n",
    "x = 42\n",
    "a + x"
   ]
  },
  {
   "cell_type": "code",
   "execution_count": null,
   "metadata": {},
   "outputs": [],
   "source": [
    "print(a+x"
   ]
  },
  {
   "cell_type": "code",
   "execution_count": null,
   "metadata": {},
   "outputs": [],
   "source": [
    "pint(a, x)"
   ]
  },
  {
   "cell_type": "code",
   "execution_count": null,
   "metadata": {},
   "outputs": [],
   "source": [
    "42_myvar = 42"
   ]
  },
  {
   "cell_type": "code",
   "execution_count": null,
   "metadata": {},
   "outputs": [],
   "source": [
    "2/0"
   ]
  },
  {
   "cell_type": "markdown",
   "metadata": {},
   "source": [
    "#### Escape characters:\n",
    "    \\\\    backslash       \\\n",
    "    \n",
    "    \\'    single quote    '\n",
    "    \n",
    "    \\\"    double quote    \"\n",
    "    \n",
    "    \\t    tab             a    b\n",
    "    \n",
    "    \\n    new line        abc\n",
    "                          defgh\n"
   ]
  },
  {
   "cell_type": "code",
   "execution_count": null,
   "metadata": {},
   "outputs": [],
   "source": [
    "print(\"'\\\\' is a single backslash\")"
   ]
  },
  {
   "cell_type": "code",
   "execution_count": null,
   "metadata": {},
   "outputs": [],
   "source": [
    "print(\"single quote: \\' \\ndouble quote: \\\"\")"
   ]
  },
  {
   "cell_type": "markdown",
   "metadata": {},
   "source": [
    "#### Exercise 1.1:\n",
    "Write code to assign to variables and use the variables when printing:\n",
    "- assign 5 to x variable\n",
    "- assign 2 to y variable\n",
    "- print the product of the variables in this form: \"The result of 2 x 5 is 10!\" (use variables when printing)\n",
    "- assign \"apples\" to variable s\n",
    "- print \"5 apples + 2 apples = 7 apples\" (use variables)"
   ]
  },
  {
   "cell_type": "code",
   "execution_count": null,
   "metadata": {},
   "outputs": [],
   "source": [
    "# Exercise 1.1 code:\n",
    "\n"
   ]
  },
  {
   "cell_type": "markdown",
   "metadata": {},
   "source": [
    "#### Exercise 1.2:\n",
    "Write code (different than above) and intentionally generate errors to receive:\n",
    "- TypeError\n",
    "- SyntaxError\n",
    "- NameError\n",
    "- ZeroDivisionError"
   ]
  },
  {
   "cell_type": "code",
   "execution_count": null,
   "metadata": {},
   "outputs": [],
   "source": [
    "# Exercise 1.2 code:\n",
    "\n"
   ]
  }
 ],
 "metadata": {
  "kernelspec": {
   "display_name": "Python 3 (ipykernel)",
   "language": "python",
   "name": "python3"
  },
  "language_info": {
   "codemirror_mode": {
    "name": "ipython",
    "version": 3
   },
   "file_extension": ".py",
   "mimetype": "text/x-python",
   "name": "python",
   "nbconvert_exporter": "python",
   "pygments_lexer": "ipython3",
   "version": "3.12.4"
  }
 },
 "nbformat": 4,
 "nbformat_minor": 4
}
