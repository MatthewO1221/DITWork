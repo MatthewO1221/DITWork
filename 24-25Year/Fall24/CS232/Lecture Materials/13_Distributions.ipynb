{
 "cells": [
  {
   "cell_type": "markdown",
   "metadata": {},
   "source": [
    "Pandas library was first developed by Wes McKinney in 2008 for data manipulation and analysis."
   ]
  },
  {
   "cell_type": "markdown",
   "metadata": {},
   "source": [
    "#### References:\n",
    "    www.python.org\n",
    "    www.numpy.org\n",
    "    www.matplotlib.org\n",
    "    https://pandas.pydata.org"
   ]
  },
  {
   "cell_type": "markdown",
   "metadata": {},
   "source": [
    "#### Questions/feedback: petert@digipen.edu"
   ]
  },
  {
   "cell_type": "markdown",
   "metadata": {},
   "source": [
    "# Chapter13 Distributions\n",
    "- Continuous and Discrete distributions\n",
    "- Uniform Distribution\n",
    "- Normal Distribution\n",
    "- Central tendency"
   ]
  },
  {
   "cell_type": "markdown",
   "metadata": {},
   "source": [
    "### Import:"
   ]
  },
  {
   "cell_type": "code",
   "execution_count": null,
   "metadata": {},
   "outputs": [],
   "source": [
    "import pandas as pd\n",
    "import numpy as np\n",
    "from matplotlib import pyplot as plt\n",
    "import time                             # using this to pause plotting\n",
    "from IPython import display             # using this to refresh/display plots in a loop\n",
    "%matplotlib inline"
   ]
  },
  {
   "cell_type": "markdown",
   "metadata": {},
   "source": [
    "### Discrete and Continuous Statistical Distributions\n",
    "\n",
    "#### Statistical Distribution:\n",
    "The distribution of a statistical data is a list or function displaying all the possible values (or intervals) of the data and their frequency to occur.\n",
    "\n",
    "#### Discrete Distribution:\n",
    "Statistical distribution where the probabilities of outcomes are finite values. (Finite number or discrete set of measurable values.)\n",
    "\n",
    "Examples:\n",
    "- Rolling a die {1, 2, 3, 4, 5, 6}\n",
    "- Exam grades (F, ..., A+}\n",
    "- Error categories {Critical, Normal, Low}\n",
    "- Digits of Pi {0, 1, 2, 3, 4, 5, 6, 7, 8, 9}\n",
    "\n",
    "#### Continuous Distribution:\n",
    "Statistical distribution where the probabilities of outcomes potentially have infinite measurable values.\n",
    "\n",
    "Examples:\n",
    "- Spinning a spinner {continuous range between 0 and 360 degrees)\n",
    "- Height of humans {continuous range between 0 and 9 feet}"
   ]
  },
  {
   "cell_type": "markdown",
   "metadata": {},
   "source": [
    "Let's simulate rolling a die a number of times"
   ]
  },
  {
   "cell_type": "code",
   "execution_count": null,
   "metadata": {},
   "outputs": [],
   "source": [
    "np.random.randint?"
   ]
  },
  {
   "cell_type": "code",
   "execution_count": null,
   "metadata": {},
   "outputs": [],
   "source": [
    "np.random.randint(1, 7, 6)"
   ]
  },
  {
   "cell_type": "code",
   "execution_count": null,
   "metadata": {},
   "outputs": [],
   "source": [
    "# generate a roll (a number between 1 and 6) 6 times\n",
    "roll_6 = np.random.randint(1,7,6)   # the result is a numpy array with length 6\n",
    "roll_6"
   ]
  },
  {
   "cell_type": "code",
   "execution_count": null,
   "metadata": {},
   "outputs": [],
   "source": [
    "np.arange(7) + .5"
   ]
  },
  {
   "cell_type": "code",
   "execution_count": null,
   "metadata": {},
   "outputs": [],
   "source": [
    "bins = np.arange(7) + 0.5"
   ]
  },
  {
   "cell_type": "code",
   "execution_count": null,
   "metadata": {},
   "outputs": [],
   "source": [
    "# plot the frequency of outcomes using a histogram\n",
    "plt.hist(roll_6, bins=bins, rwidth=0.95)\n",
    "plt.show()"
   ]
  },
  {
   "cell_type": "markdown",
   "metadata": {},
   "source": [
    "So far no particular pattern is recognized\n",
    "\n",
    "Lets increase the number of rolls:"
   ]
  },
  {
   "cell_type": "code",
   "execution_count": null,
   "metadata": {},
   "outputs": [],
   "source": [
    "# 60 rolls\n",
    "nrolls = 60\n",
    "roll_60 = np.random.randint(1,7,nrolls)\n",
    "plt.hist(roll_60, bins = bins, rwidth=0.95)\n",
    "plt.show()"
   ]
  },
  {
   "cell_type": "markdown",
   "metadata": {},
   "source": [
    "Increase to 600:"
   ]
  },
  {
   "cell_type": "code",
   "execution_count": null,
   "metadata": {},
   "outputs": [],
   "source": [
    "# 600 rolls\n",
    "nrolls = 600\n",
    "roll_600 = np.random.randint(1,7,nrolls)\n",
    "plt.hist(roll_600, bins = bins, rwidth=0.95)\n",
    "plt.show()"
   ]
  },
  {
   "cell_type": "markdown",
   "metadata": {},
   "source": [
    "Increase to 6000:"
   ]
  },
  {
   "cell_type": "code",
   "execution_count": null,
   "metadata": {},
   "outputs": [],
   "source": [
    "# 6000 rolls\n",
    "nrolls = 600000\n",
    "roll_6000 = np.random.randint(1,7,nrolls)\n",
    "plt.hist(roll_6000, bins = bins, rwidth=0.95)\n",
    "plt.show()"
   ]
  },
  {
   "cell_type": "markdown",
   "metadata": {},
   "source": [
    "Note that all probabilities happen almost equally, about the same number of times.<br>\n",
    "If all probabilities happen equally, we say that the probabilities are uniformly distributed.\n",
    "\n",
    "Now display all in one plot and see how the uniformity shapes a rectangle when increasing the size of the data:"
   ]
  },
  {
   "cell_type": "code",
   "execution_count": null,
   "metadata": {},
   "outputs": [],
   "source": [
    "for i in range(20):\n",
    "    nrolls = 6 * 2 ** i\n",
    "    roll_6power = np.random.randint(1,7,nrolls)\n",
    "    plt.hist(roll_6power, bins = bins, rwidth=0.95, color=\"Green\")\n",
    "    plt.title('The numer of rolls: ' + str(nrolls) + ' (iteration ' + str(i+1) + ')')\n",
    "    display.clear_output(wait=True)\n",
    "    display.display(plt.gcf())\n",
    "    time.sleep(2)"
   ]
  },
  {
   "cell_type": "markdown",
   "metadata": {},
   "source": [
    "### Uniform Distribution\n",
    "\n",
    "Formal definition: constant in an (a, b) interval, 0 elsewhere\n",
    "\n",
    "\\begin{equation}f(x) = \\frac{1}{b-a} \\ \\ \\ \\ \\ \\ \\ a \\leq x \\leq b \\end{equation}\n",
    "\n",
    "\\begin{equation}\\ \\ \\ \\ \\ \\ \\ \\ \\ f(x) = 0 \\ \\ \\ \\ \\ \\ \\ \\ \\ \\ \\ \\ \\ \\ \\ x < a \\ \\ or \\ \\ b < x \\end{equation}\n",
    "\n",
    "Uniform distribution is simple to describe with a formula, though rarely occurs in nature and everydays life.\n",
    "\n",
    "#### Discrete Uniform Distribution Plots Visualized:"
   ]
  },
  {
   "cell_type": "code",
   "execution_count": null,
   "metadata": {},
   "outputs": [],
   "source": [
    "plt.hist(np.arange(1,7), bins = 6, rwidth=0.05)\n",
    "plt.gca().axes.get_xaxis().set_visible(False)\n",
    "plt.gca().axes.get_yaxis().set_visible(False)\n",
    "plt.show()"
   ]
  },
  {
   "cell_type": "markdown",
   "metadata": {},
   "source": [
    "#### Continuous Uniform Plots Visualized:"
   ]
  },
  {
   "cell_type": "code",
   "execution_count": null,
   "metadata": {},
   "outputs": [],
   "source": [
    "x = np.linspace(0,10,100)\n",
    "y = np.full_like(x, fill_value=0)\n",
    "y[30:80]=6\n",
    "#plt.scatter(x, y, color=\"red\")\n",
    "plt.hlines(6,3,8, color=\"red\", linewidth=3)\n",
    "plt.hlines(0,0,3, color=\"red\", linewidth=3)\n",
    "plt.hlines(0,8,10, color=\"red\", linewidth=3)\n",
    "plt.vlines(3,0,6, color=\"red\", linestyles=\"dashed\")\n",
    "plt.vlines(8,0,6, color=\"red\", linestyles=\"dashed\")\n",
    "plt.plot(3, 0, marker=\"o\", markeredgecolor=\"red\", color='w', markersize=3)\n",
    "plt.plot(8, 0, marker=\"o\", markeredgecolor=\"red\", color='w', markersize=3)\n",
    "plt.plot(3, 6, marker=\"o\", markeredgecolor=\"red\", color='r', markersize=4)\n",
    "plt.plot(8, 6, marker=\"o\", markeredgecolor=\"red\", color='r', markersize=4)\n",
    "plt.xlim(0,10)\n",
    "plt.ylim(-0.5,7)\n",
    "plt.gca().axes.get_xaxis().set_visible(False)\n",
    "plt.gca().axes.get_yaxis().set_visible(False)\n",
    "plt.show()"
   ]
  },
  {
   "cell_type": "markdown",
   "metadata": {},
   "source": [
    "### Normal Distribution\n",
    "\n",
    "Formal definition:\n",
    "\n",
    "\\begin{equation}f(x) = \\frac{e^{-x^{2}/2}} {\\sqrt{2\\pi}}\\end{equation}\n",
    "\n",
    "which is a special case of the generic formula:\n",
    "\n",
    "\\begin{equation}f(x) = \\frac{e^{-(x - \\mu)^{2}/(2\\sigma^{2}) }} {\\sigma\\sqrt{2\\pi}}, where \\ \\mu = 0 \\ and \\ \\sigma = 1\\end{equation}\n",
    "\n",
    "Normal distribution is complex to describe with a formula, though often occurs in nature and everydays life.\n",
    "\n",
    "#### Normal Distribution Plots Visualized:"
   ]
  },
  {
   "cell_type": "code",
   "execution_count": null,
   "metadata": {},
   "outputs": [],
   "source": [
    "plt.figure(dpi=100)\n",
    "x = np.arange(-5,5,.01)\n",
    "y = np.exp((-x**2)/2)/np.sqrt(2*np.pi)\n",
    "plt.plot(x,y, color=\"red\")\n",
    "plt.title('normal distribution')\n",
    "plt.vlines(0,0,0.42, linestyles=\"--\", color=\"red\")\n",
    "plt.ylim(0,0.6)\n",
    "plt.gca().axes.get_xaxis().set_visible(False)\n",
    "plt.gca().axes.get_yaxis().set_visible(False)\n",
    "plt.show()"
   ]
  },
  {
   "cell_type": "markdown",
   "metadata": {},
   "source": [
    "The normal distribution curve is\n",
    "- symmetrical\n",
    "     - mean, median and mode in the middle\n",
    "- has a peak\n",
    "- unimodal (only one peak)\n",
    "\n",
    "        More than 2/3 falls between +/- 1 standard deviation: 68%\n",
    "        The majority  falls between +/- 2 standard deviation: 95%\n",
    "        Almost all    falls between +/- 3 standard deviation: 99.7%"
   ]
  },
  {
   "cell_type": "code",
   "execution_count": null,
   "metadata": {},
   "outputs": [],
   "source": [
    "plt.figure(dpi=100)\n",
    "x = np.arange(-5,5,.01)\n",
    "y = np.exp((-x**2)/2)/np.sqrt(2*np.pi)\n",
    "plt.plot(x,y, color=\"red\")\n",
    "plt.title('normal distribution')\n",
    "\n",
    "plt.vlines(0,0,0.58, linestyles=\"--\", color=\"red\")\n",
    "plt.vlines(-1,0,0.58, linestyles=\"--\", color=\"magenta\")\n",
    "plt.vlines(1,0,0.58, linestyles=\"--\", color=\"magenta\")\n",
    "plt.vlines(-2,0,0.58, linestyles=\"--\", color=\"blue\")\n",
    "plt.vlines(2,0,0.58, linestyles=\"--\", color=\"blue\")\n",
    "plt.vlines(-3,0,0.58, linestyles=\"--\", color=\"green\")\n",
    "plt.vlines(3,0,0.58, linestyles=\"--\", color=\"green\")\n",
    "\n",
    "plt.hlines(0.42,-1,1, color=\"magenta\")\n",
    "plt.hlines(0.47,-2,2, color=\"blue\")\n",
    "plt.hlines(0.52,-3,3, color=\"green\")\n",
    "\n",
    "plt.text(3.2,0.51, \"+/- 3 sd  99.7%\", color=\"green\")\n",
    "plt.text(2.2,0.46, \"+/- 2 sd  95%\", color=\"blue\")\n",
    "plt.text(1.2,0.41, \"+/- 1 sd  68%\", color=\"magenta\")\n",
    "\n",
    "plt.ylim(0,0.6)\n",
    "plt.gca().axes.get_yaxis().set_visible(False)\n",
    "plt.gca().axes.get_xaxis().set_visible(False)\n",
    "plt.show()"
   ]
  },
  {
   "cell_type": "markdown",
   "metadata": {},
   "source": [
    "We can use NumPy's .randn() method:"
   ]
  },
  {
   "cell_type": "code",
   "execution_count": null,
   "metadata": {},
   "outputs": [],
   "source": [
    "plt.figure(dpi=100)\n",
    "x = np.random.randn(10**7)\n",
    "plt.hist(x, bins=1000)\n",
    "plt.show()"
   ]
  },
  {
   "attachments": {
    "kurtosis.jpg": {
     "image/jpeg": "[encoded data removed]"
    },
    "skewness.jpeg": {
     "image/jpeg": "[encoded data removed]"
    }
   },
   "cell_type": "markdown",
   "metadata": {},
   "source": [
    "Normal \"like\" distributions:\n",
    "- assymmetric: right skewed and left skewed (positive skew and negative skew)\n",
    "    - positive skewness is more frequent\n",
    "- multimodal: multiple peaks\n",
    "- distorted: flat or high peaked, kurtosis\n",
    "\n",
    "![skewness.jpeg](attachment:skewness.jpeg)\n",
    "\n",
    "![kurtosis.jpg](attachment:kurtosis.jpg)"
   ]
  },
  {
   "cell_type": "markdown",
   "metadata": {},
   "source": [
    "Lets do some experiment by rolling six dice and see the frequency of the rolled sums.\n",
    "Observations:\n",
    "- Rolling six dice the sum will be between 6 and 36\n",
    "- Expectation is the least frequent sum is 6 and 36 when all dice show the same number: 1 or 6\n",
    "- Expactation is the most freqent sum will be 21"
   ]
  },
  {
   "cell_type": "code",
   "execution_count": null,
   "metadata": {},
   "outputs": [],
   "source": [
    "plt.hist(np.random.randint(1,7,10**6) + np.random.randint(1,7,10**6) + np.random.randint(1,7,10**6) + np.random.randint(1,7,10**6) + np.random.randint(1,7,10**6) + np.random.randint(1,7,10**6), bins=31, rwidth=0.9)\n",
    "plt.show()"
   ]
  },
  {
   "cell_type": "code",
   "execution_count": null,
   "metadata": {},
   "outputs": [],
   "source": [
    "for i in range(20):\n",
    "    nrolls = 6 * 2 ** i\n",
    "    roll_1 = np.random.randint(1,7,nrolls)\n",
    "    roll_2 = np.random.randint(1,7,nrolls)\n",
    "    roll_3 = np.random.randint(1,7,nrolls)\n",
    "    roll_4 = np.random.randint(1,7,nrolls)\n",
    "    roll_5 = np.random.randint(1,7,nrolls)\n",
    "    roll_6 = np.random.randint(1,7,nrolls)\n",
    "    plt.hist(roll_1 + roll_2 + roll_3 + roll_4 + roll_5 + roll_6, bins = 31, rwidth=0.8, color=\"Green\")\n",
    "    plt.title(\"The number of rolls for each of the six dice: \" + str(6 * 2 ** i))\n",
    "    display.clear_output(wait=True)\n",
    "    display.display(plt.gcf())\n",
    "    time.sleep(1)\n",
    "    "
   ]
  },
  {
   "cell_type": "markdown",
   "metadata": {},
   "source": [
    "The plot resembles normal distribusion with no kurtosis and no skewedness.\n",
    "\n",
    "Central Limit Theorem (CLT):\n",
    "- the distribution of a sample variable approximates to normal distribution\n",
    "  \n",
    "  or\n",
    "\n",
    "\n",
    "- the sampling distribution of a sample mean is approximately normal (assuming the sample size is large enough), even if the population distribution is not normal\n",
    "\n",
    "In our case: the sum of multiple independent variables is approximately normal.\n",
    "\n",
    "Assumptions made:\n",
    "- identically distributed variables, finite mean and variance\n",
    "- Regardless if the original independent variables are not normally distributed"
   ]
  },
  {
   "cell_type": "markdown",
   "metadata": {},
   "source": [
    "There are various known distributions beside uniform and normal.\n",
    "\n",
    "<a href=\"https://en.wikipedia.org/wiki/List_of_probability_distributions\">List of probability distributions</a> (wikipedia)"
   ]
  },
  {
   "cell_type": "markdown",
   "metadata": {},
   "source": [
    "#### Exercise 13.1:\n",
    "Roll a fair icosahedron a million times\n",
    "- Plot the frequency of the outcomes\n",
    "- What distribution does the plot resemble?"
   ]
  },
  {
   "cell_type": "code",
   "execution_count": null,
   "metadata": {},
   "outputs": [],
   "source": [
    "# Exercise 13.1 code:\n",
    "\n"
   ]
  },
  {
   "cell_type": "markdown",
   "metadata": {},
   "source": [
    "#### Exercise 13.2:\n",
    "Roll four fair icosahedron a $1, 10, 100, .. 10^6$ times\n",
    "- Plot the frequencies of the sum as outcomes\n",
    "    - Extra: Display a series of plots in one figure\n",
    "- What distribution does the plot resemble?\n",
    "- Plot the frequencies when rolling three icosahedrons\n",
    "    - Extra: Display a series of plots in one figure\n",
    "- What distribution does the plot resemble?"
   ]
  },
  {
   "cell_type": "code",
   "execution_count": null,
   "metadata": {
    "scrolled": false
   },
   "outputs": [],
   "source": [
    "# Exercise 13.2 code:\n",
    "\n"
   ]
  },
  {
   "cell_type": "markdown",
   "metadata": {},
   "source": [
    "#### Exercise 13.3:\n",
    "Roll each Platonic solids $1, 10, 100, .. 10^6$ times\n",
    "- Plot the frequencies of the sum as outcomes\n",
    "    - Extra: Display a series of plots in one figure\n",
    "- What distribution does the plot resemble?"
   ]
  },
  {
   "cell_type": "code",
   "execution_count": null,
   "metadata": {},
   "outputs": [],
   "source": [
    "# Exercise 13.3 code:\n",
    "\n"
   ]
  }
 ],
 "metadata": {
  "kernelspec": {
   "display_name": "Python 3 (ipykernel)",
   "language": "python",
   "name": "python3"
  },
  "language_info": {
   "codemirror_mode": {
    "name": "ipython",
    "version": 3
   },
   "file_extension": ".py",
   "mimetype": "text/x-python",
   "name": "python",
   "nbconvert_exporter": "python",
   "pygments_lexer": "ipython3",
   "version": "3.8.16"
  }
 },
 "nbformat": 4,
 "nbformat_minor": 2
}
